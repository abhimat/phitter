{
 "cells": [
  {
   "cell_type": "markdown",
   "id": "6fa0dd04-0145-448f-9e4e-90d6982e6bc6",
   "metadata": {},
   "source": [
    "# Simulate mock observations data for fitting"
   ]
  },
  {
   "cell_type": "markdown",
   "id": "3f59510a-c27f-40d0-9ece-d633b9238172",
   "metadata": {},
   "source": [
    "Here we are simulating mock data to be used for fitting in later tutorials."
   ]
  },
  {
   "cell_type": "markdown",
   "id": "d04845e0-cc8d-4b7e-964b-3a5e8d36e720",
   "metadata": {},
   "source": [
    "## Imports"
   ]
  },
  {
   "cell_type": "code",
   "execution_count": 1,
   "id": "5acda20f-f3d8-4d41-adfc-d831f7c51d0f",
   "metadata": {},
   "outputs": [
    {
     "name": "stderr",
     "output_type": "stream",
     "text": [
      "/Users/abhimat/Software/miniforge3/envs/phoebe_py38/lib/python3.8/site-packages/pysynphot/locations.py:345: UserWarning: Extinction files not found in /Volumes/Noh/models/cdbs/extinction\n",
      "  warnings.warn('Extinction files not found in %s' % (extdir, ))\n"
     ]
    }
   ],
   "source": [
    "from phitter import observables, filters\n",
    "from phitter.params import star_params, binary_params, isoc_interp_params\n",
    "from phitter.calc import model_obs_calc, phot_adj_calc, rv_adj_calc\n",
    "\n",
    "import numpy as np\n",
    "\n",
    "from phoebe import u\n",
    "from phoebe import c as const\n",
    "import matplotlib as mpl\n",
    "import matplotlib.pyplot as plt\n",
    "\n",
    "%matplotlib inline\n",
    "\n",
    "# The following warning regarding extinction originates from SPISEA and can be ignored.\n",
    "# The functionality being warned about is not used by SPISEA."
   ]
  },
  {
   "cell_type": "markdown",
   "id": "20fa1154-a377-435d-a7e2-4e83dc7008ce",
   "metadata": {},
   "source": [
    "## Simulate some observations"
   ]
  },
  {
   "cell_type": "markdown",
   "id": "8f8853c0-cbee-47bf-86e9-4d9cec0861af",
   "metadata": {},
   "source": [
    "Let's generate some mock observations from a hypothetical red giant binary system located close to the Galactic center (similar to the examples in the [previous set of tutorials](add_rv_effects))."
   ]
  },
  {
   "cell_type": "code",
   "execution_count": 2,
   "id": "1b667621-5824-4db6-8352-cbf311dc0f9e",
   "metadata": {},
   "outputs": [],
   "source": [
    "filter_153m = filters.hst_f153m_filt()\n",
    "filter_127m = filters.hst_f127m_filt()"
   ]
  },
  {
   "cell_type": "code",
   "execution_count": 3,
   "id": "6f2fa0d1-6ced-400a-8863-a9409eee78fb",
   "metadata": {},
   "outputs": [],
   "source": [
    "# Object for interpolating stellar parameters from an isochrone\n",
    "\n",
    "isoc_stellar_params_obj = isoc_interp_params.isoc_mist_stellar_params(\n",
    "    age=8e9,\n",
    "    met=0.0,\n",
    "    use_atm_func='merged',\n",
    "    phase='RGB',\n",
    "    ext_Ks=2.2,\n",
    "    dist=8e3*u.pc,\n",
    "    filts_list=[filter_153m, filter_127m],\n",
    "    ext_law='NL18',\n",
    ")"
   ]
  },
  {
   "cell_type": "code",
   "execution_count": 4,
   "id": "0548e9c6-2a4c-47df-a861-aad906421ed3",
   "metadata": {},
   "outputs": [],
   "source": [
    "# Star and binary parameters\n",
    "\n",
    "star1_params = isoc_stellar_params_obj.interp_star_params_rad(15)\n",
    "star2_params = isoc_stellar_params_obj.interp_star_params_rad(12)\n",
    "\n",
    "bin_params = binary_params.binary_params(\n",
    "    period = 25.0 * u.d,\n",
    "    ecc = 0.0,\n",
    "    inc = 75.0 * u.deg,\n",
    "    t0 = 53_800.0,\n",
    ")"
   ]
  },
  {
   "cell_type": "code",
   "execution_count": 32,
   "id": "3065071c-3fb3-4009-9b08-1bfd0e13765a",
   "metadata": {},
   "outputs": [],
   "source": [
    "# Set up model times\n",
    "# Model times are in MJD here\n",
    "obs_phases_153m = np.sort(np.random.rand(25))\n",
    "obs_times_153m = obs_phases_153m * bin_params.period.value + bin_params.t0\n",
    "\n",
    "obs_phases_127m = np.sort(np.random.rand(25))\n",
    "obs_times_127m = obs_phases_127m * bin_params.period.value + bin_params.t0\n",
    "\n",
    "obs_phases_rv = np.sort(np.random.rand(5))\n",
    "obs_times_rv = obs_phases_rv * bin_params.period.value + bin_params.t0"
   ]
  },
  {
   "cell_type": "code",
   "execution_count": 33,
   "id": "7a677a15-6ae6-4c0d-b040-4bb48a8eac76",
   "metadata": {},
   "outputs": [],
   "source": [
    "# Set up filter and observation type arrays for the model fluxes and RVs\n",
    "\n",
    "obs_flux_153m_filt_arr = np.full(len(obs_phases_153m), filter_153m)\n",
    "obs_flux_153m_type_arr = np.full(len(obs_phases_153m), 'phot')\n",
    "\n",
    "obs_flux_127m_filt_arr = np.full(len(obs_phases_127m), filter_127m)\n",
    "obs_flux_127m_type_arr = np.full(len(obs_phases_127m), 'phot')\n",
    "\n",
    "obs_rv_pri_filt_arr = np.full(len(obs_phases_rv), filter_153m)\n",
    "obs_rv_pri_type_arr = np.full(len(obs_phases_rv), 'rv_pri')\n",
    "\n",
    "obs_rv_sec_filt_arr = np.full(len(obs_phases_rv), filter_153m)\n",
    "obs_rv_sec_type_arr = np.full(len(obs_phases_rv), 'rv_sec')"
   ]
  },
  {
   "cell_type": "code",
   "execution_count": 34,
   "id": "88c50d5f-429c-4048-8845-88c329244ffe",
   "metadata": {},
   "outputs": [],
   "source": [
    "# Now make arrays for all the times, filters, and observation types by concatenating the above arrays\n",
    "\n",
    "obs_times = np.concatenate(\n",
    "    (obs_times_153m, obs_times_127m, obs_times_rv, obs_times_rv),\n",
    ")\n",
    "obs_filts = np.concatenate(\n",
    "    (obs_flux_153m_filt_arr, obs_flux_127m_filt_arr, obs_rv_pri_filt_arr, obs_rv_sec_filt_arr,),\n",
    ")\n",
    "obs_types = np.concatenate(\n",
    "    (obs_flux_153m_type_arr, obs_flux_127m_type_arr, obs_rv_pri_type_arr, obs_rv_sec_type_arr,),\n",
    ")\n",
    "\n",
    "# Construct the observables object\n",
    "\n",
    "model_observables = observables.observables(\n",
    "    obs_times=obs_times,\n",
    "    obs_filts=obs_filts, obs_types=obs_types,\n",
    ")"
   ]
  },
  {
   "cell_type": "code",
   "execution_count": 35,
   "id": "c6503f59-5dab-4ec3-be5b-df8713e14771",
   "metadata": {},
   "outputs": [],
   "source": [
    "# Object to perform the computation of flux and RVs\n",
    "\n",
    "binary_model_obj = model_obs_calc.binary_star_model_obs(\n",
    "    model_observables,\n",
    "    use_blackbody_atm=False,\n",
    "    print_diagnostics=False,\n",
    ")"
   ]
  },
  {
   "cell_type": "code",
   "execution_count": 36,
   "id": "964992ba-a353-404e-993f-426d66331f2a",
   "metadata": {},
   "outputs": [],
   "source": [
    "modeled_observables = binary_model_obj.compute_obs(\n",
    "    star1_params, star2_params, bin_params,\n",
    ")\n",
    "\n",
    "# Add distance modulus\n",
    "\n",
    "modeled_observables = phot_adj_calc.apply_distance_modulus(\n",
    "    modeled_observables,\n",
    "    8e3*u.pc,\n",
    ")\n",
    "\n",
    "# Apply reddening from extinction\n",
    "\n",
    "modeled_observables = phot_adj_calc.apply_extinction(\n",
    "    modeled_observables,\n",
    "    isoc_Ks_ext=2.2,\n",
    "    ref_filt=filter_153m,\n",
    "    target_ref_filt_ext=4.5,\n",
    "    isoc_red_law='NL18',\n",
    "    ext_alpha=2.23,\n",
    ")\n",
    "\n",
    "# Add center of mass RV\n",
    "\n",
    "modeled_observables = rv_adj_calc.apply_com_velocity(\n",
    "    modeled_observables,\n",
    "    150. * u.km / u.s,\n",
    ")"
   ]
  },
  {
   "cell_type": "code",
   "execution_count": 37,
   "id": "2a2762be-6896-43e3-b4e0-673f04fef98a",
   "metadata": {},
   "outputs": [
    {
     "data": {
      "text/plain": [
       "<matplotlib.legend.Legend at 0x166573400>"
      ]
     },
     "execution_count": 37,
     "metadata": {},
     "output_type": "execute_result"
    },
    {
     "data": {
      "image/png": "[encoded data removed]",
      "text/plain": [
       "<Figure size 600x600 with 3 Axes>"
      ]
     },
     "metadata": {},
     "output_type": "display_data"
    }
   ],
   "source": [
    "# Fluxes in mags\n",
    "modeled_mags_153m = modeled_observables.obs[modeled_observables.phot_filt_filters[filter_153m]]\n",
    "modeled_mags_127m = modeled_observables.obs[modeled_observables.phot_filt_filters[filter_127m]]\n",
    "\n",
    "# RVs in km/s\n",
    "modeled_rvs_star1 = modeled_observables.obs[modeled_observables.obs_rv_pri_filter]\n",
    "modeled_rvs_star2 = modeled_observables.obs[modeled_observables.obs_rv_sec_filter]\n",
    "\n",
    "# Draw plot\n",
    "fig = plt.figure(figsize=(6,6))\n",
    "\n",
    "# F153M mags subplot\n",
    "ax_mag_153m = fig.add_subplot(3,1,1)\n",
    "\n",
    "ax_mag_153m.plot(\n",
    "    obs_phases_153m, modeled_mags_153m,\n",
    "    '.', color='C1',\n",
    ")\n",
    "\n",
    "ax_mag_153m.set_xlim([0, 1])\n",
    "\n",
    "ax_mag_153m.invert_yaxis()\n",
    "ax_mag_153m.set_ylabel(r\"$m_{F153M}$\")\n",
    "\n",
    "# F153M mags subplot\n",
    "ax_mag_127m = fig.add_subplot(3,1,2)\n",
    "\n",
    "ax_mag_127m.plot(\n",
    "    obs_phases_127m, modeled_mags_127m,\n",
    "    '.', color='C0',\n",
    ")\n",
    "\n",
    "ax_mag_127m.set_xlim([0, 1])\n",
    "\n",
    "ax_mag_127m.invert_yaxis()\n",
    "ax_mag_127m.set_ylabel(r\"$m_{F127M}$\")\n",
    "\n",
    "# RVs subplot\n",
    "ax_rvs = fig.add_subplot(3,1,3)\n",
    "\n",
    "ax_rvs.plot(\n",
    "    obs_phases_rv, modeled_rvs_star1,\n",
    "    '.', color='C9', label='Star 1',\n",
    ")\n",
    "\n",
    "ax_rvs.plot(\n",
    "    obs_phases_rv, modeled_rvs_star2,\n",
    "    '.', color='C3', label='Star 2',\n",
    ")\n",
    "\n",
    "ax_rvs.set_xlabel(f\"Phase (period = {bin_params.period:.1f})\")\n",
    "ax_rvs.set_xlim([0, 1])\n",
    "\n",
    "ax_rvs.set_ylabel(\"Radial Velocity (km/s)\")\n",
    "\n",
    "ax_rvs.legend(loc='lower center', ncol=2)\n"
   ]
  },
  {
   "cell_type": "markdown",
   "id": "06c1b4d3-6a92-4109-967d-b4f533165787",
   "metadata": {},
   "source": [
    "## Add observation noise to data"
   ]
  },
  {
   "cell_type": "code",
   "execution_count": 43,
   "id": "b379a319-a158-4f73-bb83-bea1bae78384",
   "metadata": {},
   "outputs": [
    {
     "data": {
      "text/plain": [
       "<matplotlib.legend.Legend at 0x168757e80>"
      ]
     },
     "execution_count": 43,
     "metadata": {},
     "output_type": "execute_result"
    },
    {
     "data": {
      "image/png": "[encoded data removed]",
      "text/plain": [
       "<Figure size 600x600 with 3 Axes>"
      ]
     },
     "metadata": {},
     "output_type": "display_data"
    }
   ],
   "source": [
    "unc_153m = 0.015\n",
    "unc_127m = 0.015\n",
    "unc_rvs = 10\n",
    "\n",
    "mock_mags_153m = modeled_mags_153m + unc_153m*np.random.randn(len(modeled_mags_153m))\n",
    "mock_mags_127m = modeled_mags_127m + unc_127m*np.random.randn(len(modeled_mags_127m))\n",
    "\n",
    "mock_mag_uncs_153m = np.full(len(mock_mags_153m), unc_153m)\n",
    "mock_mag_uncs_127m = np.full(len(mock_mags_127m), unc_127m)\n",
    "\n",
    "mock_rvs_star1 = modeled_rvs_star1 + unc_rvs*np.random.randn(len(modeled_rvs_star1))\n",
    "mock_rvs_star2 = modeled_rvs_star2 + unc_rvs*np.random.randn(len(modeled_rvs_star2))\n",
    "\n",
    "mock_rv_uncs_star1 = np.full(len(mock_rvs_star1), unc_rvs)\n",
    "mock_rv_uncs_star2 = np.full(len(mock_rvs_star2), unc_rvs)\n",
    "\n",
    "# Draw plot\n",
    "fig = plt.figure(figsize=(6,6))\n",
    "\n",
    "# F153M mags subplot\n",
    "ax_mag_153m = fig.add_subplot(3,1,1)\n",
    "\n",
    "ax_mag_153m.errorbar(\n",
    "    obs_phases_153m, mock_mags_153m,\n",
    "    yerr=mock_mag_uncs_153m,\n",
    "    fmt='.', color='C1',\n",
    ")\n",
    "\n",
    "ax_mag_153m.set_xlim([0, 1])\n",
    "\n",
    "ax_mag_153m.invert_yaxis()\n",
    "ax_mag_153m.set_ylabel(r\"$m_{F153M}$\")\n",
    "\n",
    "# F153M mags subplot\n",
    "ax_mag_127m = fig.add_subplot(3,1,2)\n",
    "\n",
    "ax_mag_127m.errorbar(\n",
    "    obs_phases_127m, mock_mags_127m,\n",
    "    yerr=mock_mag_uncs_127m,\n",
    "    fmt='.', color='C0',\n",
    ")\n",
    "\n",
    "ax_mag_127m.set_xlim([0, 1])\n",
    "\n",
    "ax_mag_127m.invert_yaxis()\n",
    "ax_mag_127m.set_ylabel(r\"$m_{F127M}$\")\n",
    "\n",
    "# RVs subplot\n",
    "ax_rvs = fig.add_subplot(3,1,3)\n",
    "\n",
    "ax_rvs.errorbar(\n",
    "    obs_phases_rv, mock_rvs_star1,\n",
    "    yerr=mock_rv_uncs_star1,\n",
    "    fmt='.', color='C9', label='Star 1',\n",
    ")\n",
    "\n",
    "ax_rvs.errorbar(\n",
    "    obs_phases_rv, mock_rvs_star2,\n",
    "    yerr=mock_rv_uncs_star1,\n",
    "    fmt='.', color='C3', label='Star 2',\n",
    ")\n",
    "\n",
    "ax_rvs.set_xlabel(f\"Phase (period = {bin_params.period:.1f})\")\n",
    "ax_rvs.set_xlim([0, 1])\n",
    "\n",
    "ax_rvs.set_ylabel(\"Radial Velocity (km/s)\")\n",
    "\n",
    "ax_rvs.legend(loc='lower center', ncol=2)\n"
   ]
  },
  {
   "cell_type": "markdown",
   "id": "978d85e0-6e4e-4f41-94ca-ee0cfb40b6fb",
   "metadata": {},
   "source": [
    "# Save out final mock data"
   ]
  },
  {
   "cell_type": "code",
   "execution_count": 52,
   "id": "b41ef106-6338-4b74-bb51-b88fda1ecd7b",
   "metadata": {},
   "outputs": [
    {
     "name": "stdout",
     "output_type": "stream",
     "text": [
      "    obs_times             obs         obs_uncs obs_types                       obs_filts                       \n",
      "------------------ ------------------ -------- --------- ------------------------------------------------------\n",
      "53800.714762925796 16.769110541124228    0.015      phot <phitter.filters.hst_f153m_filt object at 0x105a07340>\n",
      " 53802.78887450278 16.569960382011555    0.015      phot <phitter.filters.hst_f153m_filt object at 0x105a07340>\n",
      " 53804.08607971392 16.523859319835843    0.015      phot <phitter.filters.hst_f153m_filt object at 0x105a07340>\n",
      " 53804.64136070461  16.54425287095397    0.015      phot <phitter.filters.hst_f153m_filt object at 0x105a07340>\n",
      "53805.203583377115 16.551835703948942    0.015      phot <phitter.filters.hst_f153m_filt object at 0x105a07340>\n",
      " 53805.96328097839 16.559083907180494    0.015      phot <phitter.filters.hst_f153m_filt object at 0x105a07340>\n",
      "53806.315847597616 16.526208341236522    0.015      phot <phitter.filters.hst_f153m_filt object at 0x105a07340>\n",
      "53806.333495717256 16.549137149396568    0.015      phot <phitter.filters.hst_f153m_filt object at 0x105a07340>\n",
      "53807.488405082564  16.54357246902387    0.015      phot <phitter.filters.hst_f153m_filt object at 0x105a07340>\n",
      " 53807.67541617193 16.512582058125357    0.015      phot <phitter.filters.hst_f153m_filt object at 0x105a07340>\n",
      "               ...                ...      ...       ...                                                    ...\n",
      "53802.139836776325   130.228146222555     10.0    rv_pri <phitter.filters.hst_f153m_filt object at 0x105a07340>\n",
      " 53803.32979530006 114.02051863903269     10.0    rv_pri <phitter.filters.hst_f153m_filt object at 0x105a07340>\n",
      " 53804.46291200766 114.54568517998948     10.0    rv_pri <phitter.filters.hst_f153m_filt object at 0x105a07340>\n",
      "53813.273397048906 163.65481126090992     10.0    rv_pri <phitter.filters.hst_f153m_filt object at 0x105a07340>\n",
      " 53819.03215627737 175.28898537909566     10.0    rv_pri <phitter.filters.hst_f153m_filt object at 0x105a07340>\n",
      "53802.139836776325 164.33130628324724     10.0    rv_sec <phitter.filters.hst_f153m_filt object at 0x105a07340>\n",
      " 53803.32979530006 176.97897304376025     10.0    rv_sec <phitter.filters.hst_f153m_filt object at 0x105a07340>\n",
      " 53804.46291200766 190.80797816955624     10.0    rv_sec <phitter.filters.hst_f153m_filt object at 0x105a07340>\n",
      "53813.273397048906 129.70047968985767     10.0    rv_sec <phitter.filters.hst_f153m_filt object at 0x105a07340>\n",
      " 53819.03215627737  97.50308377106813     10.0    rv_sec <phitter.filters.hst_f153m_filt object at 0x105a07340>\n",
      "Length = 60 rows\n"
     ]
    }
   ],
   "source": [
    "# Save mock data\n",
    "\n",
    "from astropy.table import Table\n",
    "import pickle\n",
    "\n",
    "obs_array = np.concatenate(\n",
    "    (\n",
    "        mock_mags_153m, mock_mags_127m,\n",
    "        mock_rvs_star1, mock_rvs_star2,\n",
    "    )\n",
    ")\n",
    "\n",
    "obs_uncs_array = np.concatenate(\n",
    "    (\n",
    "        mock_mag_uncs_153m, mock_mag_uncs_127m,\n",
    "        mock_rv_uncs_star1, mock_rv_uncs_star2,\n",
    "    )\n",
    ")\n",
    "\n",
    "obs_table = Table(\n",
    "    [\n",
    "        obs_times,\n",
    "        obs_array,\n",
    "        obs_uncs_array,\n",
    "        obs_types,\n",
    "        obs_filts,\n",
    "    ],\n",
    "    names=(\n",
    "        'obs_times',\n",
    "        'obs',\n",
    "        'obs_uncs',\n",
    "        'obs_types',\n",
    "        'obs_filts',\n",
    "    ),\n",
    ")\n",
    "\n",
    "print(obs_table)\n",
    "\n",
    "obs_table.write(\n",
    "    'mock_obs_data.txt', format='ascii.fixed_width',\n",
    "    overwrite=True,\n",
    ")\n",
    "\n",
    "# Pickle table object\n",
    "with open('mock_obs_table.pkl', 'wb') as out_pickle:\n",
    "    pickle.dump(obs_table, out_pickle)"
   ]
  },
  {
   "cell_type": "code",
   "execution_count": null,
   "id": "858b2585-5b26-4d6e-ae6c-91dc1800b6bf",
   "metadata": {},
   "outputs": [],
   "source": []
  }
 ],
 "metadata": {
  "kernelspec": {
   "display_name": "Python [conda env:phoebe_py38]",
   "language": "python",
   "name": "conda-env-phoebe_py38-py"
  },
  "language_info": {
   "codemirror_mode": {
    "name": "ipython",
    "version": 3
   },
   "file_extension": ".py",
   "mimetype": "text/x-python",
   "name": "python",
   "nbconvert_exporter": "python",
   "pygments_lexer": "ipython3",
   "version": "3.8.16"
  }
 },
 "nbformat": 4,
 "nbformat_minor": 5
}
