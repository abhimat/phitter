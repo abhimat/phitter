{
 "cells": [
  {
   "cell_type": "markdown",
   "id": "6fa0dd04-0145-448f-9e4e-90d6982e6bc6",
   "metadata": {},
   "source": [
    "# Tutorial: Simulate a model binary"
   ]
  },
  {
   "cell_type": "markdown",
   "id": "3f59510a-c27f-40d0-9ece-d633b9238172",
   "metadata": {},
   "source": [
    "This tutorial walks through the basics of using phitter to compute light curves and RVs for a model stellar binary."
   ]
  },
  {
   "cell_type": "markdown",
   "id": "d04845e0-cc8d-4b7e-964b-3a5e8d36e720",
   "metadata": {},
   "source": [
    "## Imports"
   ]
  },
  {
   "cell_type": "code",
   "execution_count": 1,
   "id": "5acda20f-f3d8-4d41-adfc-d831f7c51d0f",
   "metadata": {},
   "outputs": [
    {
     "name": "stdout",
     "output_type": "stream",
     "text": [
      "Connection to online passbands at http://tables.phoebe-project.org could not be established.  Check your internet connection or try again later (can manually call phoebe.list_online_passbands(refresh=True) to retry).  If the problem persists and you're using a Mac, you may need to update openssl (see http://phoebe-project.org/help/faq). Original error from urlopen: URLError <urlopen error timed out>\n"
     ]
    },
    {
     "name": "stderr",
     "output_type": "stream",
     "text": [
      "/Users/abhimat/Software/miniforge3/envs/phoebe_py38/lib/python3.8/site-packages/pysynphot/locations.py:345: UserWarning: Extinction files not found in /Volumes/Noh/models/cdbs/extinction\n",
      "  warnings.warn('Extinction files not found in %s' % (extdir, ))\n",
      "/Users/abhimat/Software/miniforge3/envs/phoebe_py38/lib/python3.8/site-packages/pysynphot/refs.py:117: UserWarning: No graph or component tables found; functionality will be SEVERELY crippled. No files found for /Volumes/Noh/models/cdbs/mtab/*_tmg.fits\n",
      "  warnings.warn('No graph or component tables found; '\n",
      "/Users/abhimat/Software/miniforge3/envs/phoebe_py38/lib/python3.8/site-packages/pysynphot/refs.py:124: UserWarning: No thermal tables found, no thermal calculations can be performed. No files found for /Volumes/Noh/models/cdbs/mtab/*_tmt.fits\n",
      "  warnings.warn('No thermal tables found, '\n"
     ]
    },
    {
     "ename": "FileNotFoundError",
     "evalue": "[Errno 2] No such file or directory: '/Volumes/Noh/models/cdbs/grid/k93models/catalog.fits'",
     "output_type": "error",
     "traceback": [
      "\u001b[0;31m---------------------------------------------------------------------------\u001b[0m",
      "\u001b[0;31mFileNotFoundError\u001b[0m                         Traceback (most recent call last)",
      "File \u001b[0;32m~/Software/python-packages/SPISEA/spisea/atmospheres.py:117\u001b[0m, in \u001b[0;36mget_kurucz_atmosphere\u001b[0;34m(metallicity, temperature, gravity, rebin)\u001b[0m\n\u001b[1;32m    116\u001b[0m \u001b[38;5;28;01mtry\u001b[39;00m:\n\u001b[0;32m--> 117\u001b[0m     sp \u001b[38;5;241m=\u001b[39m \u001b[43mpysynphot\u001b[49m\u001b[38;5;241;43m.\u001b[39;49m\u001b[43mIcat\u001b[49m\u001b[43m(\u001b[49m\u001b[38;5;124;43m'\u001b[39;49m\u001b[38;5;124;43mk93models\u001b[39;49m\u001b[38;5;124;43m'\u001b[39;49m\u001b[43m,\u001b[49m\u001b[43m \u001b[49m\u001b[43mtemperature\u001b[49m\u001b[43m,\u001b[49m\u001b[43m \u001b[49m\u001b[43mmetallicity\u001b[49m\u001b[43m,\u001b[49m\u001b[43m \u001b[49m\u001b[43mgravity\u001b[49m\u001b[43m)\u001b[49m\n\u001b[1;32m    118\u001b[0m \u001b[38;5;28;01mexcept\u001b[39;00m:\n\u001b[1;32m    119\u001b[0m     \u001b[38;5;66;03m# Check atmosphere catalog bounds\u001b[39;00m\n",
      "File \u001b[0;32m~/Software/miniforge3/envs/phoebe_py38/lib/python3.8/site-packages/pysynphot/catalog.py:104\u001b[0m, in \u001b[0;36mIcat.__init__\u001b[0;34m(self, catdir, Teff, metallicity, log_g)\u001b[0m\n\u001b[1;32m    103\u001b[0m \u001b[38;5;28;01melse\u001b[39;00m:\n\u001b[0;32m--> 104\u001b[0m     table \u001b[38;5;241m=\u001b[39m \u001b[43mpyfits\u001b[49m\u001b[38;5;241;43m.\u001b[39;49m\u001b[43mopen\u001b[49m\u001b[43m(\u001b[49m\u001b[43mfilename\u001b[49m\u001b[43m)\u001b[49m\n\u001b[1;32m    106\u001b[0m     indexList \u001b[38;5;241m=\u001b[39m table[\u001b[38;5;241m1\u001b[39m]\u001b[38;5;241m.\u001b[39mdata\u001b[38;5;241m.\u001b[39mfield(\u001b[38;5;124m'\u001b[39m\u001b[38;5;124mINDEX\u001b[39m\u001b[38;5;124m'\u001b[39m)\n",
      "File \u001b[0;32m~/Software/miniforge3/envs/phoebe_py38/lib/python3.8/site-packages/astropy/io/fits/hdu/hdulist.py:214\u001b[0m, in \u001b[0;36mfitsopen\u001b[0;34m(name, mode, memmap, save_backup, cache, lazy_load_hdus, ignore_missing_simple, use_fsspec, fsspec_kwargs, **kwargs)\u001b[0m\n\u001b[1;32m    212\u001b[0m     \u001b[38;5;28;01mraise\u001b[39;00m \u001b[38;5;167;01mValueError\u001b[39;00m(\u001b[38;5;124mf\u001b[39m\u001b[38;5;124m\"\u001b[39m\u001b[38;5;124mEmpty filename: \u001b[39m\u001b[38;5;132;01m{\u001b[39;00mname\u001b[38;5;132;01m!r}\u001b[39;00m\u001b[38;5;124m\"\u001b[39m)\n\u001b[0;32m--> 214\u001b[0m \u001b[38;5;28;01mreturn\u001b[39;00m \u001b[43mHDUList\u001b[49m\u001b[38;5;241;43m.\u001b[39;49m\u001b[43mfromfile\u001b[49m\u001b[43m(\u001b[49m\n\u001b[1;32m    215\u001b[0m \u001b[43m    \u001b[49m\u001b[43mname\u001b[49m\u001b[43m,\u001b[49m\n\u001b[1;32m    216\u001b[0m \u001b[43m    \u001b[49m\u001b[43mmode\u001b[49m\u001b[43m,\u001b[49m\n\u001b[1;32m    217\u001b[0m \u001b[43m    \u001b[49m\u001b[43mmemmap\u001b[49m\u001b[43m,\u001b[49m\n\u001b[1;32m    218\u001b[0m \u001b[43m    \u001b[49m\u001b[43msave_backup\u001b[49m\u001b[43m,\u001b[49m\n\u001b[1;32m    219\u001b[0m \u001b[43m    \u001b[49m\u001b[43mcache\u001b[49m\u001b[43m,\u001b[49m\n\u001b[1;32m    220\u001b[0m \u001b[43m    \u001b[49m\u001b[43mlazy_load_hdus\u001b[49m\u001b[43m,\u001b[49m\n\u001b[1;32m    221\u001b[0m \u001b[43m    \u001b[49m\u001b[43mignore_missing_simple\u001b[49m\u001b[43m,\u001b[49m\n\u001b[1;32m    222\u001b[0m \u001b[43m    \u001b[49m\u001b[43muse_fsspec\u001b[49m\u001b[38;5;241;43m=\u001b[39;49m\u001b[43muse_fsspec\u001b[49m\u001b[43m,\u001b[49m\n\u001b[1;32m    223\u001b[0m \u001b[43m    \u001b[49m\u001b[43mfsspec_kwargs\u001b[49m\u001b[38;5;241;43m=\u001b[39;49m\u001b[43mfsspec_kwargs\u001b[49m\u001b[43m,\u001b[49m\n\u001b[1;32m    224\u001b[0m \u001b[43m    \u001b[49m\u001b[38;5;241;43m*\u001b[39;49m\u001b[38;5;241;43m*\u001b[39;49m\u001b[43mkwargs\u001b[49m\u001b[43m,\u001b[49m\n\u001b[1;32m    225\u001b[0m \u001b[43m\u001b[49m\u001b[43m)\u001b[49m\n",
      "File \u001b[0;32m~/Software/miniforge3/envs/phoebe_py38/lib/python3.8/site-packages/astropy/io/fits/hdu/hdulist.py:482\u001b[0m, in \u001b[0;36mHDUList.fromfile\u001b[0;34m(cls, fileobj, mode, memmap, save_backup, cache, lazy_load_hdus, ignore_missing_simple, **kwargs)\u001b[0m\n\u001b[1;32m    474\u001b[0m \u001b[38;5;250m\u001b[39m\u001b[38;5;124;03m\"\"\"\u001b[39;00m\n\u001b[1;32m    475\u001b[0m \u001b[38;5;124;03mCreates an `HDUList` instance from a file-like object.\u001b[39;00m\n\u001b[1;32m    476\u001b[0m \n\u001b[0;32m   (...)\u001b[0m\n\u001b[1;32m    479\u001b[0m \u001b[38;5;124;03mdocumentation for details of the parameters accepted by this method).\u001b[39;00m\n\u001b[1;32m    480\u001b[0m \u001b[38;5;124;03m\"\"\"\u001b[39;00m\n\u001b[0;32m--> 482\u001b[0m \u001b[38;5;28;01mreturn\u001b[39;00m \u001b[38;5;28;43mcls\u001b[39;49m\u001b[38;5;241;43m.\u001b[39;49m\u001b[43m_readfrom\u001b[49m\u001b[43m(\u001b[49m\n\u001b[1;32m    483\u001b[0m \u001b[43m    \u001b[49m\u001b[43mfileobj\u001b[49m\u001b[38;5;241;43m=\u001b[39;49m\u001b[43mfileobj\u001b[49m\u001b[43m,\u001b[49m\n\u001b[1;32m    484\u001b[0m \u001b[43m    \u001b[49m\u001b[43mmode\u001b[49m\u001b[38;5;241;43m=\u001b[39;49m\u001b[43mmode\u001b[49m\u001b[43m,\u001b[49m\n\u001b[1;32m    485\u001b[0m \u001b[43m    \u001b[49m\u001b[43mmemmap\u001b[49m\u001b[38;5;241;43m=\u001b[39;49m\u001b[43mmemmap\u001b[49m\u001b[43m,\u001b[49m\n\u001b[1;32m    486\u001b[0m \u001b[43m    \u001b[49m\u001b[43msave_backup\u001b[49m\u001b[38;5;241;43m=\u001b[39;49m\u001b[43msave_backup\u001b[49m\u001b[43m,\u001b[49m\n\u001b[1;32m    487\u001b[0m \u001b[43m    \u001b[49m\u001b[43mcache\u001b[49m\u001b[38;5;241;43m=\u001b[39;49m\u001b[43mcache\u001b[49m\u001b[43m,\u001b[49m\n\u001b[1;32m    488\u001b[0m \u001b[43m    \u001b[49m\u001b[43mignore_missing_simple\u001b[49m\u001b[38;5;241;43m=\u001b[39;49m\u001b[43mignore_missing_simple\u001b[49m\u001b[43m,\u001b[49m\n\u001b[1;32m    489\u001b[0m \u001b[43m    \u001b[49m\u001b[43mlazy_load_hdus\u001b[49m\u001b[38;5;241;43m=\u001b[39;49m\u001b[43mlazy_load_hdus\u001b[49m\u001b[43m,\u001b[49m\n\u001b[1;32m    490\u001b[0m \u001b[43m    \u001b[49m\u001b[38;5;241;43m*\u001b[39;49m\u001b[38;5;241;43m*\u001b[39;49m\u001b[43mkwargs\u001b[49m\u001b[43m,\u001b[49m\n\u001b[1;32m    491\u001b[0m \u001b[43m\u001b[49m\u001b[43m)\u001b[49m\n",
      "File \u001b[0;32m~/Software/miniforge3/envs/phoebe_py38/lib/python3.8/site-packages/astropy/io/fits/hdu/hdulist.py:1170\u001b[0m, in \u001b[0;36mHDUList._readfrom\u001b[0;34m(cls, fileobj, data, mode, memmap, cache, lazy_load_hdus, ignore_missing_simple, use_fsspec, fsspec_kwargs, **kwargs)\u001b[0m\n\u001b[1;32m   1168\u001b[0m \u001b[38;5;28;01mif\u001b[39;00m \u001b[38;5;129;01mnot\u001b[39;00m \u001b[38;5;28misinstance\u001b[39m(fileobj, _File):\n\u001b[1;32m   1169\u001b[0m     \u001b[38;5;66;03m# instantiate a FITS file object (ffo)\u001b[39;00m\n\u001b[0;32m-> 1170\u001b[0m     fileobj \u001b[38;5;241m=\u001b[39m \u001b[43m_File\u001b[49m\u001b[43m(\u001b[49m\n\u001b[1;32m   1171\u001b[0m \u001b[43m        \u001b[49m\u001b[43mfileobj\u001b[49m\u001b[43m,\u001b[49m\n\u001b[1;32m   1172\u001b[0m \u001b[43m        \u001b[49m\u001b[43mmode\u001b[49m\u001b[38;5;241;43m=\u001b[39;49m\u001b[43mmode\u001b[49m\u001b[43m,\u001b[49m\n\u001b[1;32m   1173\u001b[0m \u001b[43m        \u001b[49m\u001b[43mmemmap\u001b[49m\u001b[38;5;241;43m=\u001b[39;49m\u001b[43mmemmap\u001b[49m\u001b[43m,\u001b[49m\n\u001b[1;32m   1174\u001b[0m \u001b[43m        \u001b[49m\u001b[43mcache\u001b[49m\u001b[38;5;241;43m=\u001b[39;49m\u001b[43mcache\u001b[49m\u001b[43m,\u001b[49m\n\u001b[1;32m   1175\u001b[0m \u001b[43m        \u001b[49m\u001b[43muse_fsspec\u001b[49m\u001b[38;5;241;43m=\u001b[39;49m\u001b[43muse_fsspec\u001b[49m\u001b[43m,\u001b[49m\n\u001b[1;32m   1176\u001b[0m \u001b[43m        \u001b[49m\u001b[43mfsspec_kwargs\u001b[49m\u001b[38;5;241;43m=\u001b[39;49m\u001b[43mfsspec_kwargs\u001b[49m\u001b[43m,\u001b[49m\n\u001b[1;32m   1177\u001b[0m \u001b[43m    \u001b[49m\u001b[43m)\u001b[49m\n\u001b[1;32m   1178\u001b[0m \u001b[38;5;66;03m# The Astropy mode is determined by the _File initializer if the\u001b[39;00m\n\u001b[1;32m   1179\u001b[0m \u001b[38;5;66;03m# supplied mode was None\u001b[39;00m\n",
      "File \u001b[0;32m~/Software/miniforge3/envs/phoebe_py38/lib/python3.8/site-packages/astropy/io/fits/file.py:218\u001b[0m, in \u001b[0;36m_File.__init__\u001b[0;34m(self, fileobj, mode, memmap, overwrite, cache, use_fsspec, fsspec_kwargs)\u001b[0m\n\u001b[1;32m    217\u001b[0m \u001b[38;5;28;01melif\u001b[39;00m \u001b[38;5;28misinstance\u001b[39m(fileobj, (\u001b[38;5;28mstr\u001b[39m, \u001b[38;5;28mbytes\u001b[39m)):\n\u001b[0;32m--> 218\u001b[0m     \u001b[38;5;28;43mself\u001b[39;49m\u001b[38;5;241;43m.\u001b[39;49m\u001b[43m_open_filename\u001b[49m\u001b[43m(\u001b[49m\u001b[43mfileobj\u001b[49m\u001b[43m,\u001b[49m\u001b[43m \u001b[49m\u001b[43mmode\u001b[49m\u001b[43m,\u001b[49m\u001b[43m \u001b[49m\u001b[43moverwrite\u001b[49m\u001b[43m)\u001b[49m\n\u001b[1;32m    219\u001b[0m \u001b[38;5;28;01melse\u001b[39;00m:\n",
      "File \u001b[0;32m~/Software/miniforge3/envs/phoebe_py38/lib/python3.8/site-packages/astropy/io/fits/file.py:636\u001b[0m, in \u001b[0;36m_File._open_filename\u001b[0;34m(self, filename, mode, overwrite)\u001b[0m\n\u001b[1;32m    635\u001b[0m \u001b[38;5;28;01mif\u001b[39;00m \u001b[38;5;129;01mnot\u001b[39;00m \u001b[38;5;28mself\u001b[39m\u001b[38;5;241m.\u001b[39m_try_read_compressed(\u001b[38;5;28mself\u001b[39m\u001b[38;5;241m.\u001b[39mname, magic, mode, ext\u001b[38;5;241m=\u001b[39mext):\n\u001b[0;32m--> 636\u001b[0m     \u001b[38;5;28mself\u001b[39m\u001b[38;5;241m.\u001b[39m_file \u001b[38;5;241m=\u001b[39m \u001b[38;5;28;43mopen\u001b[39;49m\u001b[43m(\u001b[49m\u001b[38;5;28;43mself\u001b[39;49m\u001b[38;5;241;43m.\u001b[39;49m\u001b[43mname\u001b[49m\u001b[43m,\u001b[49m\u001b[43m \u001b[49m\u001b[43mIO_FITS_MODES\u001b[49m\u001b[43m[\u001b[49m\u001b[43mmode\u001b[49m\u001b[43m]\u001b[49m\u001b[43m)\u001b[49m\n\u001b[1;32m    637\u001b[0m     \u001b[38;5;28mself\u001b[39m\u001b[38;5;241m.\u001b[39mclose_on_error \u001b[38;5;241m=\u001b[39m \u001b[38;5;28;01mTrue\u001b[39;00m\n",
      "\u001b[0;31mFileNotFoundError\u001b[0m: [Errno 2] No such file or directory: '/Volumes/Noh/models/cdbs/grid/k93models/catalog.fits'",
      "\nDuring handling of the above exception, another exception occurred:\n",
      "\u001b[0;31mFileNotFoundError\u001b[0m                         Traceback (most recent call last)",
      "Cell \u001b[0;32mIn[1], line 1\u001b[0m\n\u001b[0;32m----> 1\u001b[0m \u001b[38;5;28;01mfrom\u001b[39;00m \u001b[38;5;21;01mphitter\u001b[39;00m \u001b[38;5;28;01mimport\u001b[39;00m observables, filters\n\u001b[1;32m      2\u001b[0m \u001b[38;5;28;01mfrom\u001b[39;00m \u001b[38;5;21;01mphitter\u001b[39;00m\u001b[38;5;21;01m.\u001b[39;00m\u001b[38;5;21;01mparams\u001b[39;00m \u001b[38;5;28;01mimport\u001b[39;00m star_params, binary_params, blackbody_params\n\u001b[1;32m      3\u001b[0m \u001b[38;5;28;01mfrom\u001b[39;00m \u001b[38;5;21;01mphitter\u001b[39;00m\u001b[38;5;21;01m.\u001b[39;00m\u001b[38;5;21;01mcalc\u001b[39;00m \u001b[38;5;28;01mimport\u001b[39;00m model_obs_calc\n",
      "File \u001b[0;32m~/Software/python-packages/phitter/phitter/filters.py:7\u001b[0m\n\u001b[1;32m      4\u001b[0m \u001b[38;5;28;01mfrom\u001b[39;00m \u001b[38;5;21;01mphoebe\u001b[39;00m \u001b[38;5;28;01mimport\u001b[39;00m c \u001b[38;5;28;01mas\u001b[39;00m const\n\u001b[1;32m      6\u001b[0m \u001b[38;5;28;01mimport\u001b[39;00m \u001b[38;5;21;01mnumpy\u001b[39;00m \u001b[38;5;28;01mas\u001b[39;00m \u001b[38;5;21;01mnp\u001b[39;00m\n\u001b[0;32m----> 7\u001b[0m \u001b[38;5;28;01mfrom\u001b[39;00m \u001b[38;5;21;01mspisea\u001b[39;00m \u001b[38;5;28;01mimport\u001b[39;00m synthetic, reddening\n\u001b[1;32m      9\u001b[0m lambda_Ks \u001b[38;5;241m=\u001b[39m \u001b[38;5;241m2.18e-6\u001b[39m \u001b[38;5;241m*\u001b[39m u\u001b[38;5;241m.\u001b[39mm\n\u001b[1;32m     11\u001b[0m \u001b[38;5;28;01mclass\u001b[39;00m \u001b[38;5;21;01mfilter\u001b[39;00m(\u001b[38;5;28mobject\u001b[39m):\n",
      "File \u001b[0;32m~/Software/python-packages/SPISEA/spisea/synthetic.py:54\u001b[0m\n\u001b[1;32m     50\u001b[0m     vega \u001b[38;5;241m*\u001b[39m\u001b[38;5;241m=\u001b[39m \u001b[38;5;241m6.247e-17\u001b[39m \n\u001b[1;32m     52\u001b[0m     \u001b[38;5;28;01mreturn\u001b[39;00m vega\n\u001b[0;32m---> 54\u001b[0m vega \u001b[38;5;241m=\u001b[39m \u001b[43mVega\u001b[49m\u001b[43m(\u001b[49m\u001b[43m)\u001b[49m\n\u001b[1;32m     56\u001b[0m \u001b[38;5;28;01mclass\u001b[39;00m \u001b[38;5;21;01mCluster\u001b[39;00m(\u001b[38;5;28mobject\u001b[39m):\n\u001b[1;32m     57\u001b[0m \u001b[38;5;250m    \u001b[39m\u001b[38;5;124;03m\"\"\"\u001b[39;00m\n\u001b[1;32m     58\u001b[0m \u001b[38;5;124;03m    Base class to create a cluster with user-specified isochrone,\u001b[39;00m\n\u001b[1;32m     59\u001b[0m \u001b[38;5;124;03m    imf, ifmr, and total mass. \u001b[39;00m\n\u001b[0;32m   (...)\u001b[0m\n\u001b[1;32m     83\u001b[0m \u001b[38;5;124;03m        True for verbose output.\u001b[39;00m\n\u001b[1;32m     84\u001b[0m \u001b[38;5;124;03m    \"\"\"\u001b[39;00m\n",
      "File \u001b[0;32m~/Software/python-packages/SPISEA/spisea/synthetic.py:40\u001b[0m, in \u001b[0;36mVega\u001b[0;34m()\u001b[0m\n\u001b[1;32m     37\u001b[0m \u001b[38;5;28;01mdef\u001b[39;00m \u001b[38;5;21mVega\u001b[39m():\n\u001b[1;32m     38\u001b[0m     \u001b[38;5;66;03m# Use Vega as our zeropoint... assume V=0.03 mag and all colors = 0.0\u001b[39;00m\n\u001b[1;32m     39\u001b[0m     \u001b[38;5;66;03m# These parameters are defined in Girardi+02\u001b[39;00m\n\u001b[0;32m---> 40\u001b[0m     vega \u001b[38;5;241m=\u001b[39m \u001b[43matm\u001b[49m\u001b[38;5;241;43m.\u001b[39;49m\u001b[43mget_kurucz_atmosphere\u001b[49m\u001b[43m(\u001b[49m\u001b[43mtemperature\u001b[49m\u001b[38;5;241;43m=\u001b[39;49m\u001b[38;5;241;43m9550\u001b[39;49m\u001b[43m,\u001b[49m\u001b[43m \u001b[49m\n\u001b[1;32m     41\u001b[0m \u001b[43m                                     \u001b[49m\u001b[43mgravity\u001b[49m\u001b[38;5;241;43m=\u001b[39;49m\u001b[38;5;241;43m3.95\u001b[39;49m\u001b[43m,\u001b[49m\n\u001b[1;32m     42\u001b[0m \u001b[43m                                     \u001b[49m\u001b[43mmetallicity\u001b[49m\u001b[38;5;241;43m=\u001b[39;49m\u001b[38;5;241;43m-\u001b[39;49m\u001b[38;5;241;43m0.5\u001b[39;49m\u001b[43m)\u001b[49m\n\u001b[1;32m     44\u001b[0m     \u001b[38;5;66;03m# Following the K93 README, set wavelength range to 0.1 - 10 microns.\u001b[39;00m\n\u001b[1;32m     45\u001b[0m     \u001b[38;5;66;03m# This defines the maximum allowed wavelength range in SPISEA\u001b[39;00m\n\u001b[1;32m     46\u001b[0m     vega \u001b[38;5;241m=\u001b[39m spectrum\u001b[38;5;241m.\u001b[39mtrimSpectrum(vega, \u001b[38;5;241m995\u001b[39m, \u001b[38;5;241m100200\u001b[39m)\n",
      "File \u001b[0;32m~/Software/python-packages/SPISEA/spisea/atmospheres.py:120\u001b[0m, in \u001b[0;36mget_kurucz_atmosphere\u001b[0;34m(metallicity, temperature, gravity, rebin)\u001b[0m\n\u001b[1;32m    117\u001b[0m     sp \u001b[38;5;241m=\u001b[39m pysynphot\u001b[38;5;241m.\u001b[39mIcat(\u001b[38;5;124m'\u001b[39m\u001b[38;5;124mk93models\u001b[39m\u001b[38;5;124m'\u001b[39m, temperature, metallicity, gravity)\n\u001b[1;32m    118\u001b[0m \u001b[38;5;28;01mexcept\u001b[39;00m:\n\u001b[1;32m    119\u001b[0m     \u001b[38;5;66;03m# Check atmosphere catalog bounds\u001b[39;00m\n\u001b[0;32m--> 120\u001b[0m     (temperature, gravity) \u001b[38;5;241m=\u001b[39m \u001b[43mget_atmosphere_bounds\u001b[49m\u001b[43m(\u001b[49m\u001b[38;5;124;43m'\u001b[39;49m\u001b[38;5;124;43mk93models\u001b[39;49m\u001b[38;5;124;43m'\u001b[39;49m\u001b[43m,\u001b[49m\n\u001b[1;32m    121\u001b[0m \u001b[43m                                               \u001b[49m\u001b[43mmetallicity\u001b[49m\u001b[38;5;241;43m=\u001b[39;49m\u001b[43mmetallicity\u001b[49m\u001b[43m,\u001b[49m\n\u001b[1;32m    122\u001b[0m \u001b[43m                                               \u001b[49m\u001b[43mtemperature\u001b[49m\u001b[38;5;241;43m=\u001b[39;49m\u001b[43mtemperature\u001b[49m\u001b[43m,\u001b[49m\n\u001b[1;32m    123\u001b[0m \u001b[43m                                               \u001b[49m\u001b[43mgravity\u001b[49m\u001b[38;5;241;43m=\u001b[39;49m\u001b[43mgravity\u001b[49m\u001b[43m)\u001b[49m\n\u001b[1;32m    125\u001b[0m     sp \u001b[38;5;241m=\u001b[39m pysynphot\u001b[38;5;241m.\u001b[39mIcat(\u001b[38;5;124m'\u001b[39m\u001b[38;5;124mk93models\u001b[39m\u001b[38;5;124m'\u001b[39m, temperature, metallicity, gravity)\n\u001b[1;32m    127\u001b[0m \u001b[38;5;66;03m# Do some error checking\u001b[39;00m\n",
      "File \u001b[0;32m~/Software/python-packages/SPISEA/spisea/atmospheres.py:20\u001b[0m, in \u001b[0;36mget_atmosphere_bounds\u001b[0;34m(model_dir, metallicity, temperature, gravity)\u001b[0m\n\u001b[1;32m     16\u001b[0m \u001b[38;5;250m\u001b[39m\u001b[38;5;124;03m\"\"\"\u001b[39;00m\n\u001b[1;32m     17\u001b[0m \u001b[38;5;124;03mGiven atmosphere model, get temperature and gravity bounds\u001b[39;00m\n\u001b[1;32m     18\u001b[0m \u001b[38;5;124;03m\"\"\"\u001b[39;00m\n\u001b[1;32m     19\u001b[0m \u001b[38;5;66;03m# Open catalog fits file and break out row indices\u001b[39;00m\n\u001b[0;32m---> 20\u001b[0m catalog \u001b[38;5;241m=\u001b[39m \u001b[43mTable\u001b[49m\u001b[38;5;241;43m.\u001b[39;49m\u001b[43mread\u001b[49m\u001b[43m(\u001b[49m\u001b[38;5;124;43m'\u001b[39;49m\u001b[38;5;132;43;01m{0}\u001b[39;49;00m\u001b[38;5;124;43m/grid/\u001b[39;49m\u001b[38;5;132;43;01m{1}\u001b[39;49;00m\u001b[38;5;124;43m/catalog.fits\u001b[39;49m\u001b[38;5;124;43m'\u001b[39;49m\u001b[38;5;241;43m.\u001b[39;49m\u001b[43mformat\u001b[49m\u001b[43m(\u001b[49m\u001b[43mos\u001b[49m\u001b[38;5;241;43m.\u001b[39;49m\u001b[43menviron\u001b[49m\u001b[43m[\u001b[49m\u001b[38;5;124;43m'\u001b[39;49m\u001b[38;5;124;43mPYSYN_CDBS\u001b[39;49m\u001b[38;5;124;43m'\u001b[39;49m\u001b[43m]\u001b[49m\u001b[43m,\u001b[49m\u001b[43m \u001b[49m\u001b[43mmodel_dir\u001b[49m\u001b[43m)\u001b[49m\u001b[43m)\u001b[49m\n\u001b[1;32m     22\u001b[0m teff_arr \u001b[38;5;241m=\u001b[39m []\n\u001b[1;32m     23\u001b[0m z_arr \u001b[38;5;241m=\u001b[39m []\n",
      "File \u001b[0;32m~/Software/miniforge3/envs/phoebe_py38/lib/python3.8/site-packages/astropy/table/connect.py:62\u001b[0m, in \u001b[0;36mTableRead.__call__\u001b[0;34m(self, *args, **kwargs)\u001b[0m\n\u001b[1;32m     59\u001b[0m units \u001b[38;5;241m=\u001b[39m kwargs\u001b[38;5;241m.\u001b[39mpop(\u001b[38;5;124m\"\u001b[39m\u001b[38;5;124munits\u001b[39m\u001b[38;5;124m\"\u001b[39m, \u001b[38;5;28;01mNone\u001b[39;00m)\n\u001b[1;32m     60\u001b[0m descriptions \u001b[38;5;241m=\u001b[39m kwargs\u001b[38;5;241m.\u001b[39mpop(\u001b[38;5;124m\"\u001b[39m\u001b[38;5;124mdescriptions\u001b[39m\u001b[38;5;124m\"\u001b[39m, \u001b[38;5;28;01mNone\u001b[39;00m)\n\u001b[0;32m---> 62\u001b[0m out \u001b[38;5;241m=\u001b[39m \u001b[38;5;28;43mself\u001b[39;49m\u001b[38;5;241;43m.\u001b[39;49m\u001b[43mregistry\u001b[49m\u001b[38;5;241;43m.\u001b[39;49m\u001b[43mread\u001b[49m\u001b[43m(\u001b[49m\u001b[38;5;28;43mcls\u001b[39;49m\u001b[43m,\u001b[49m\u001b[43m \u001b[49m\u001b[38;5;241;43m*\u001b[39;49m\u001b[43margs\u001b[49m\u001b[43m,\u001b[49m\u001b[43m \u001b[49m\u001b[38;5;241;43m*\u001b[39;49m\u001b[38;5;241;43m*\u001b[39;49m\u001b[43mkwargs\u001b[49m\u001b[43m)\u001b[49m\n\u001b[1;32m     64\u001b[0m \u001b[38;5;66;03m# For some readers (e.g., ascii.ecsv), the returned `out` class is not\u001b[39;00m\n\u001b[1;32m     65\u001b[0m \u001b[38;5;66;03m# guaranteed to be the same as the desired output `cls`.  If so,\u001b[39;00m\n\u001b[1;32m     66\u001b[0m \u001b[38;5;66;03m# try coercing to desired class without copying (io.registry.read\u001b[39;00m\n\u001b[1;32m     67\u001b[0m \u001b[38;5;66;03m# would normally do a copy).  The normal case here is swapping\u001b[39;00m\n\u001b[1;32m     68\u001b[0m \u001b[38;5;66;03m# Table <=> QTable.\u001b[39;00m\n\u001b[1;32m     69\u001b[0m \u001b[38;5;28;01mif\u001b[39;00m \u001b[38;5;28mcls\u001b[39m \u001b[38;5;129;01mis\u001b[39;00m \u001b[38;5;129;01mnot\u001b[39;00m out\u001b[38;5;241m.\u001b[39m\u001b[38;5;18m__class__\u001b[39m:\n",
      "File \u001b[0;32m~/Software/miniforge3/envs/phoebe_py38/lib/python3.8/site-packages/astropy/io/registry/core.py:203\u001b[0m, in \u001b[0;36mUnifiedInputRegistry.read\u001b[0;34m(self, cls, format, cache, *args, **kwargs)\u001b[0m\n\u001b[1;32m    199\u001b[0m \u001b[38;5;28;01mtry\u001b[39;00m:\n\u001b[1;32m    200\u001b[0m     ctx \u001b[38;5;241m=\u001b[39m get_readable_fileobj(\n\u001b[1;32m    201\u001b[0m         args[\u001b[38;5;241m0\u001b[39m], encoding\u001b[38;5;241m=\u001b[39m\u001b[38;5;124m\"\u001b[39m\u001b[38;5;124mbinary\u001b[39m\u001b[38;5;124m\"\u001b[39m, cache\u001b[38;5;241m=\u001b[39mcache\n\u001b[1;32m    202\u001b[0m     )\n\u001b[0;32m--> 203\u001b[0m     fileobj \u001b[38;5;241m=\u001b[39m \u001b[43mctx\u001b[49m\u001b[38;5;241;43m.\u001b[39;49m\u001b[38;5;21;43m__enter__\u001b[39;49m\u001b[43m(\u001b[49m\u001b[43m)\u001b[49m\n\u001b[1;32m    204\u001b[0m \u001b[38;5;28;01mexcept\u001b[39;00m \u001b[38;5;167;01mOSError\u001b[39;00m:\n\u001b[1;32m    205\u001b[0m     \u001b[38;5;28;01mraise\u001b[39;00m\n",
      "File \u001b[0;32m~/Software/miniforge3/envs/phoebe_py38/lib/python3.8/contextlib.py:113\u001b[0m, in \u001b[0;36m_GeneratorContextManager.__enter__\u001b[0;34m(self)\u001b[0m\n\u001b[1;32m    111\u001b[0m \u001b[38;5;28;01mdel\u001b[39;00m \u001b[38;5;28mself\u001b[39m\u001b[38;5;241m.\u001b[39margs, \u001b[38;5;28mself\u001b[39m\u001b[38;5;241m.\u001b[39mkwds, \u001b[38;5;28mself\u001b[39m\u001b[38;5;241m.\u001b[39mfunc\n\u001b[1;32m    112\u001b[0m \u001b[38;5;28;01mtry\u001b[39;00m:\n\u001b[0;32m--> 113\u001b[0m     \u001b[38;5;28;01mreturn\u001b[39;00m \u001b[38;5;28;43mnext\u001b[39;49m\u001b[43m(\u001b[49m\u001b[38;5;28;43mself\u001b[39;49m\u001b[38;5;241;43m.\u001b[39;49m\u001b[43mgen\u001b[49m\u001b[43m)\u001b[49m\n\u001b[1;32m    114\u001b[0m \u001b[38;5;28;01mexcept\u001b[39;00m \u001b[38;5;167;01mStopIteration\u001b[39;00m:\n\u001b[1;32m    115\u001b[0m     \u001b[38;5;28;01mraise\u001b[39;00m \u001b[38;5;167;01mRuntimeError\u001b[39;00m(\u001b[38;5;124m\"\u001b[39m\u001b[38;5;124mgenerator didn\u001b[39m\u001b[38;5;124m'\u001b[39m\u001b[38;5;124mt yield\u001b[39m\u001b[38;5;124m\"\u001b[39m) \u001b[38;5;28;01mfrom\u001b[39;00m \u001b[38;5;28mNone\u001b[39m\n",
      "File \u001b[0;32m~/Software/miniforge3/envs/phoebe_py38/lib/python3.8/site-packages/astropy/utils/data.py:353\u001b[0m, in \u001b[0;36mget_readable_fileobj\u001b[0;34m(name_or_obj, encoding, cache, show_progress, remote_timeout, sources, http_headers, use_fsspec, fsspec_kwargs, close_files)\u001b[0m\n\u001b[1;32m    344\u001b[0m \u001b[38;5;28;01mif\u001b[39;00m is_url:\n\u001b[1;32m    345\u001b[0m     name_or_obj \u001b[38;5;241m=\u001b[39m download_file(\n\u001b[1;32m    346\u001b[0m         name_or_obj,\n\u001b[1;32m    347\u001b[0m         cache\u001b[38;5;241m=\u001b[39mcache,\n\u001b[0;32m   (...)\u001b[0m\n\u001b[1;32m    351\u001b[0m         http_headers\u001b[38;5;241m=\u001b[39mhttp_headers,\n\u001b[1;32m    352\u001b[0m     )\n\u001b[0;32m--> 353\u001b[0m fileobj \u001b[38;5;241m=\u001b[39m \u001b[43mio\u001b[49m\u001b[38;5;241;43m.\u001b[39;49m\u001b[43mFileIO\u001b[49m\u001b[43m(\u001b[49m\u001b[43mname_or_obj\u001b[49m\u001b[43m,\u001b[49m\u001b[43m \u001b[49m\u001b[38;5;124;43m\"\u001b[39;49m\u001b[38;5;124;43mr\u001b[39;49m\u001b[38;5;124;43m\"\u001b[39;49m\u001b[43m)\u001b[49m\n\u001b[1;32m    354\u001b[0m \u001b[38;5;28;01mif\u001b[39;00m is_url \u001b[38;5;129;01mand\u001b[39;00m \u001b[38;5;129;01mnot\u001b[39;00m cache:\n\u001b[1;32m    355\u001b[0m     delete_fds\u001b[38;5;241m.\u001b[39mappend(fileobj)\n",
      "\u001b[0;31mFileNotFoundError\u001b[0m: [Errno 2] No such file or directory: '/Volumes/Noh/models/cdbs/grid/k93models/catalog.fits'"
     ]
    }
   ],
   "source": [
    "from phitter import observables, filters\n",
    "from phitter.params import star_params, binary_params, blackbody_params\n",
    "from phitter.calc import model_obs_calc\n",
    "\n",
    "import numpy as np\n",
    "\n",
    "from phoebe import u\n",
    "from phoebe import c as const\n",
    "import matplotlib as mpl\n",
    "import matplotlib.pyplot as plt\n",
    "\n",
    "%matplotlib inline\n",
    "\n",
    "# The following warning originates from SPISEA and can be ignored.\n",
    "# The functionality being warned about is not used by SPISEA."
   ]
  },
  {
   "cell_type": "markdown",
   "id": "20fa1154-a377-435d-a7e2-4e83dc7008ce",
   "metadata": {},
   "source": [
    "## Set up observation filters / passbands"
   ]
  },
  {
   "cell_type": "markdown",
   "id": "8f8853c0-cbee-47bf-86e9-4d9cec0861af",
   "metadata": {},
   "source": [
    "For this example, we're going to generate photometry and RVs in Keck Kp band. Any passband set up in both PHOEBE and SPISEA can be used by Phitter for simulating fluxes and RVs."
   ]
  },
  {
   "cell_type": "code",
   "execution_count": null,
   "id": "1b667621-5824-4db6-8352-cbf311dc0f9e",
   "metadata": {},
   "outputs": [],
   "source": [
    "filter_kp = filters.nirc2_kp_filt()"
   ]
  },
  {
   "cell_type": "markdown",
   "id": "3e2682cf-748e-418f-9cb8-88768e20fa43",
   "metadata": {},
   "source": [
    "## Set up stellar and binary system parameters"
   ]
  },
  {
   "cell_type": "markdown",
   "id": "1e6016bf-4cd4-40dd-a3a8-8e7db3e3a293",
   "metadata": {},
   "source": [
    "### Stellar parameters\n",
    "\n",
    "We're going to set up parameters for the component stars in the binary system with photometry derived from a blackbody. This requires providing mass, radius, and temperature for each star."
   ]
  },
  {
   "cell_type": "code",
   "execution_count": null,
   "id": "7bd1ddde-895a-4955-a4e1-91bcaf5a574c",
   "metadata": {},
   "outputs": [],
   "source": [
    "# Star parameters\n",
    "\n",
    "bb_stellar_params_obj = blackbody_params.bb_stellar_params()\n",
    "\n",
    "star1_params = bb_stellar_params_obj.calc_star_params(\n",
    "    50 * u.solMass, 52 * u.solRad, 30_000 * u.K,\n",
    ")\n",
    "\n",
    "star2_params = bb_stellar_params_obj.calc_star_params(\n",
    "    45 * u.solMass, 45 * u.solRad, 25_000 * u.K,\n",
    ")"
   ]
  },
  {
   "cell_type": "markdown",
   "id": "9c6f39fa-3a0b-4e05-9608-1e40f4978d6b",
   "metadata": {},
   "source": [
    "## Set up a binary parameters object\n",
    "\n",
    "A separate object is set up to specify the parameters of the binary system"
   ]
  },
  {
   "cell_type": "code",
   "execution_count": null,
   "id": "730dce9a-7c38-49db-b365-52c0eeeddf71",
   "metadata": {},
   "outputs": [],
   "source": [
    "# Binary parameters\n",
    "bin_params = binary_params.binary_params()\n",
    "\n",
    "bin_params.period = 20.0 * u.d\n",
    "bin_params.ecc = 0.05\n",
    "bin_params.inc = 80.0 * u.deg\n",
    "bin_params.t0 = 53_800.0"
   ]
  },
  {
   "cell_type": "markdown",
   "id": "69994ce3-1277-4c74-88c3-0b75768fd365",
   "metadata": {},
   "source": [
    "## Set up of observables to be calculated"
   ]
  },
  {
   "cell_type": "markdown",
   "id": "b3c9ff78-cbf5-46ee-a2c4-878dfd38991d",
   "metadata": {},
   "source": [
    "We need to set up an observables object to specify the times and types of observables that need to be computed. For this example, let's compute flux in Keck K-band and RVs uniformly over the entire orbital phase of the binary."
   ]
  },
  {
   "cell_type": "code",
   "execution_count": null,
   "id": "3065071c-3fb3-4009-9b08-1bfd0e13765a",
   "metadata": {},
   "outputs": [],
   "source": [
    "# Set up model times\n",
    "# Model times are in MJD here\n",
    "model_phases = np.linspace(0, 1, num=100)\n",
    "model_times = model_phases * bin_params.period.value + bin_params.t0"
   ]
  },
  {
   "cell_type": "code",
   "execution_count": null,
   "id": "7a677a15-6ae6-4c0d-b040-4bb48a8eac76",
   "metadata": {},
   "outputs": [],
   "source": [
    "# Set up filter and observation type arrays for the model fluxes and RVs\n",
    "\n",
    "kp_filt_arr = np.full(len(model_phases), filter_kp)\n",
    "kp_type_arr = np.full(len(model_phases), 'phot')\n",
    "\n",
    "rv_pri_filt_arr = np.full(len(model_phases), filter_kp)\n",
    "rv_pri_type_arr = np.full(len(model_phases), 'rv_pri')\n",
    "\n",
    "rv_sec_filt_arr = np.full(len(model_phases), filter_kp)\n",
    "rv_sec_type_arr = np.full(len(model_phases), 'rv_sec')"
   ]
  },
  {
   "cell_type": "code",
   "execution_count": null,
   "id": "88c50d5f-429c-4048-8845-88c329244ffe",
   "metadata": {},
   "outputs": [],
   "source": [
    "# Now make arrays for all the times, filters, and observation types by concatenating the above arrays\n",
    "\n",
    "obs_times = np.concatenate(\n",
    "    (model_times, model_times, model_times),\n",
    ")\n",
    "obs_filts = np.concatenate(\n",
    "    (kp_filt_arr, rv_pri_filt_arr, rv_sec_filt_arr,),\n",
    ")\n",
    "obs_types = np.concatenate(\n",
    "    (kp_type_arr, rv_pri_type_arr, rv_sec_type_arr,),\n",
    ")"
   ]
  },
  {
   "cell_type": "code",
   "execution_count": null,
   "id": "fb5971df-e184-401f-acfa-ff738d77457d",
   "metadata": {},
   "outputs": [],
   "source": [
    "# Finally, construct the observables object\n",
    "\n",
    "model_observables = observables.observables(\n",
    "    obs_times=obs_times,\n",
    "    obs_filts=obs_filts, obs_types=obs_types,\n",
    ")"
   ]
  },
  {
   "cell_type": "markdown",
   "id": "1e094786-7764-47cd-80d9-9a385fd86243",
   "metadata": {},
   "source": [
    "## Compute the observables"
   ]
  },
  {
   "cell_type": "markdown",
   "id": "a5d55815-fc5f-4d6d-8912-37322bdcd843",
   "metadata": {},
   "source": [
    "First a model observation calculation object (`model_obs_calc`) has to be instantiated, with the observables as input parameters. This object will be carrying out the calculations."
   ]
  },
  {
   "cell_type": "code",
   "execution_count": null,
   "id": "c6503f59-5dab-4ec3-be5b-df8713e14771",
   "metadata": {},
   "outputs": [],
   "source": [
    "# Object to perform the computation of flux and RVs\n",
    "\n",
    "binary_model_obj = model_obs_calc.binary_star_model_obs(\n",
    "    model_observables,\n",
    "    use_blackbody_atm=True,\n",
    "    print_diagnostics=False,\n",
    ")"
   ]
  },
  {
   "cell_type": "markdown",
   "id": "0c050860-6865-445e-9923-aadcc2974110",
   "metadata": {},
   "source": [
    "The modeled observables can then be simulated by inputting the stellar and binary parameters."
   ]
  },
  {
   "cell_type": "code",
   "execution_count": null,
   "id": "964992ba-a353-404e-993f-426d66331f2a",
   "metadata": {},
   "outputs": [],
   "source": [
    "modeled_observables = binary_model_obj.compute_obs(\n",
    "    star1_params, star2_params, bin_params,\n",
    ")"
   ]
  },
  {
   "cell_type": "markdown",
   "id": "46c0bcd8-45ab-482b-a753-00f41a3cecff",
   "metadata": {},
   "source": [
    "## Process and plot the modeled observables"
   ]
  },
  {
   "cell_type": "markdown",
   "id": "681709d2-5ce4-4794-a1cd-c17afa0d545c",
   "metadata": {},
   "source": [
    "We can extract the different observables (flux and RVs of the primary and secondary object) from the output observables object. The observables object has numpy filters for each passband and data types that we can use for this."
   ]
  },
  {
   "cell_type": "code",
   "execution_count": null,
   "id": "fb6090a0-70d8-4f4a-b6b2-c233a257e88b",
   "metadata": {},
   "outputs": [],
   "source": [
    "# Fluxes in mags\n",
    "modeled_kp_mags = modeled_observables.obs[modeled_observables.phot_filt_filters[filter_kp]]\n",
    "\n",
    "print(f'Kp-band mags: {modeled_kp_mags}')\n",
    "\n",
    "# RVs in km/s\n",
    "modeled_rvs_star1 = modeled_observables.obs[modeled_observables.obs_rv_pri_filter]\n",
    "modeled_rvs_star2 = modeled_observables.obs[modeled_observables.obs_rv_sec_filter]\n",
    "\n",
    "print(f'Star 1 RVs: {modeled_rvs_star1} km/s')\n",
    "print(f'Star 2 RVs: {modeled_rvs_star2} km/s')"
   ]
  },
  {
   "cell_type": "markdown",
   "id": "990799a1-d221-4250-9741-fb85081d1955",
   "metadata": {},
   "source": [
    "Now that we have the modeled observables, we can plot them for this model binary"
   ]
  },
  {
   "cell_type": "code",
   "execution_count": null,
   "id": "d3b3955f-3360-44ed-901c-c1cc20457aa7",
   "metadata": {},
   "outputs": [],
   "source": [
    "fig = plt.figure(figsize=(6,6))\n",
    "\n",
    "# Kp mags subplot\n",
    "ax_mag_kp = fig.add_subplot(2,1,1)\n",
    "\n",
    "ax_mag_kp.plot(\n",
    "    model_phases, modeled_kp_mags,\n",
    "    '-', color='C1',\n",
    ")\n",
    "\n",
    "ax_mag_kp.set_xlim([0, 1])\n",
    "\n",
    "ax_mag_kp.invert_yaxis()\n",
    "ax_mag_kp.set_ylabel(r\"$M_{K'}$\")\n",
    "\n",
    "# RVs subplot\n",
    "ax_rvs = fig.add_subplot(2,1,2)\n",
    "\n",
    "ax_rvs.plot(\n",
    "    model_phases, modeled_rvs_star1,\n",
    "    '-', color='C9', label='Star 1',\n",
    ")\n",
    "\n",
    "ax_rvs.plot(\n",
    "    model_phases, modeled_rvs_star2,\n",
    "    '-', color='C3', label='Star 2',\n",
    ")\n",
    "\n",
    "ax_rvs.set_xlabel(f\"Phase (period = {bin_params.period:.1f})\")\n",
    "ax_rvs.set_xlim([0, 1])\n",
    "\n",
    "ax_rvs.set_ylabel(\"Radial Velocity (km/s)\")\n",
    "\n",
    "ax_rvs.legend(loc='lower center', ncol=2)\n"
   ]
  },
  {
   "cell_type": "markdown",
   "id": "7085c35c-6f6d-4026-83f2-3d14fe846ead",
   "metadata": {},
   "source": [
    "## Bonus: make mesh plots to aide visualization"
   ]
  },
  {
   "cell_type": "markdown",
   "id": "19e9ad00-5c84-4178-bdaa-394199d71c08",
   "metadata": {},
   "source": [
    "The above plot is great to see the modeled observables. But it can be helpful to see what the modeled binary system looks like. Let's add simulate some mesh outlines of the stellar surfaces to see what this model binary looks like…\n",
    "\n",
    "We need to make a figure first where we'll do the plotting. We can be extra specific about the layout of the mesh plots in this figure, so let's do that!"
   ]
  },
  {
   "cell_type": "code",
   "execution_count": null,
   "id": "1c5c4acd-b75a-4d00-9922-d7304fce6101",
   "metadata": {},
   "outputs": [],
   "source": [
    "# Set up figure and specificy mesh plot outputs\n",
    "\n",
    "fig = plt.figure(figsize=(8,8))\n",
    "gs = plt.GridSpec(5, 5,)\n",
    "\n",
    "mesh_plot_phases = np.array([0.0, 0.25, 0.5, 0.75, 1.0])\n",
    "\n",
    "modeled_observables, mesh_plot_out, fig = binary_model_obj.compute_obs(\n",
    "    star1_params, star2_params, bin_params,\n",
    "    make_mesh_plots=True,\n",
    "    mesh_plot_phases=mesh_plot_phases,\n",
    "    mesh_plot_fig=fig,\n",
    "    mesh_plot_subplot_grid=(3,5),\n",
    "    mesh_plot_subplot_grid_indexes=np.array([1, 2, 3, 4, 5,]),\n",
    "    num_triangles=500,\n",
    ")\n",
    "\n",
    "# The mesh subplots show here since we have matplotlib inline enabled"
   ]
  },
  {
   "cell_type": "code",
   "execution_count": null,
   "id": "96d91ad0-0f6a-4669-861e-153b40148852",
   "metadata": {},
   "outputs": [],
   "source": [
    "# Finish constructing the whole figure\n",
    "\n",
    "# Fluxes in mags\n",
    "modeled_kp_mags = modeled_observables.obs[modeled_observables.phot_filt_filters[filter_kp]]\n",
    "\n",
    "# RVs in km/s\n",
    "modeled_rvs_star1 = modeled_observables.obs[modeled_observables.obs_rv_pri_filter]\n",
    "modeled_rvs_star2 = modeled_observables.obs[modeled_observables.obs_rv_sec_filter]\n",
    "\n",
    "# Label the mesh subplots\n",
    "# # Remove empty axes\n",
    "# for ax in fig.axes:\n",
    "#     if ax.get_xlabel() == '':\n",
    "#         ax.remove()\n",
    "\n",
    "# # Make mesh axes share axes\n",
    "# mesh_axes = []\n",
    "\n",
    "for ax_index, phase in enumerate(mesh_plot_phases):\n",
    "    ax = fig.axes[ax_index]\n",
    "    \n",
    "    ax.set_title(f'Phase = {phase:.2f}')\n",
    "    \n",
    "    # Decrease linewidths of the triangles in the mesh, for legibility in final plot\n",
    "    for child in ax.get_children():\n",
    "        if isinstance(child, mpl.collections.PolyCollection):\n",
    "            child.set(lw=0.25)\n",
    "    \n",
    "    # mesh_axes.append(ax)\n",
    "\n",
    "# Draw observables subplots\n",
    "# Kp mags subplot\n",
    "ax_mag_kp = fig.add_subplot(3,1,2)\n",
    "\n",
    "ax_mag_kp.plot(\n",
    "    model_phases, modeled_kp_mags,\n",
    "    '-', color='C1',\n",
    ")\n",
    "\n",
    "ax_mag_kp.set_xlim([0, 1])\n",
    "\n",
    "ax_mag_kp.invert_yaxis()\n",
    "ax_mag_kp.set_ylabel(r\"$M_{K'}$\")\n",
    "\n",
    "# RVs subplot\n",
    "ax_rvs = fig.add_subplot(3,1,3)\n",
    "\n",
    "ax_rvs.plot(\n",
    "    model_phases, modeled_rvs_star1,\n",
    "    '-', color='C9', label='Star 1',\n",
    ")\n",
    "\n",
    "ax_rvs.plot(\n",
    "    model_phases, modeled_rvs_star2,\n",
    "    '-', color='C3', label='Star 2',\n",
    ")\n",
    "\n",
    "ax_rvs.set_xlabel(f\"Phase (period = {bin_params.period:.1f})\")\n",
    "ax_rvs.set_xlim([0, 1])\n",
    "\n",
    "ax_rvs.set_ylabel(\"Radial Velocity (km/s)\")\n",
    "\n",
    "ax_rvs.legend(loc='lower center', ncol=2)\n",
    "\n",
    "fig.set_size_inches(8, 8)\n",
    "fig.tight_layout()\n",
    "\n",
    "fig"
   ]
  }
 ],
 "metadata": {
  "kernelspec": {
   "display_name": "Python [conda env:phoebe_py38]",
   "language": "python",
   "name": "conda-env-phoebe_py38-py"
  },
  "language_info": {
   "codemirror_mode": {
    "name": "ipython",
    "version": 3
   },
   "file_extension": ".py",
   "mimetype": "text/x-python",
   "name": "python",
   "nbconvert_exporter": "python",
   "pygments_lexer": "ipython3",
   "version": "3.8.16"
  }
 },
 "nbformat": 4,
 "nbformat_minor": 5
}
