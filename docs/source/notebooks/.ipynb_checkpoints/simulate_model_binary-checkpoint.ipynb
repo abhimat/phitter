{
 "cells": [
  {
   "cell_type": "markdown",
   "id": "6fa0dd04-0145-448f-9e4e-90d6982e6bc6",
   "metadata": {},
   "source": [
    "# Tutorial: Simulate a model binary"
   ]
  },
  {
   "cell_type": "markdown",
   "id": "3f59510a-c27f-40d0-9ece-d633b9238172",
   "metadata": {},
   "source": [
    "This tutorial walks through the basics of using phitter to compute light curves and RVs for a model stellar binary."
   ]
  },
  {
   "cell_type": "markdown",
   "id": "d04845e0-cc8d-4b7e-964b-3a5e8d36e720",
   "metadata": {},
   "source": [
    "## Imports"
   ]
  },
  {
   "cell_type": "code",
   "execution_count": 1,
   "id": "5acda20f-f3d8-4d41-adfc-d831f7c51d0f",
   "metadata": {},
   "outputs": [
    {
     "name": "stderr",
     "output_type": "stream",
     "text": [
      "/Users/abhimat/Software/miniforge3/envs/phoebe_py38/lib/python3.8/site-packages/pysynphot/locations.py:345: UserWarning: Extinction files not found in /Volumes/Noh/models/cdbs/extinction\n",
      "  warnings.warn('Extinction files not found in %s' % (extdir, ))\n"
     ]
    }
   ],
   "source": [
    "from phitter import observables, filters\n",
    "from phitter.params import star_params, binary_params, blackbody_params\n",
    "from phitter.calc import model_obs_calc\n",
    "\n",
    "import numpy as np\n",
    "\n",
    "from phoebe import u\n",
    "from phoebe import c as const\n",
    "import matplotlib as mpl\n",
    "import matplotlib.pyplot as plt\n",
    "\n",
    "%matplotlib inline\n",
    "\n",
    "# The following warning regarding extinction originates from SPISEA and can be ignored.\n",
    "# The functionality being warned about is not used by SPISEA."
   ]
  },
  {
   "cell_type": "markdown",
   "id": "20fa1154-a377-435d-a7e2-4e83dc7008ce",
   "metadata": {},
   "source": [
    "## Set up observation filters / passbands"
   ]
  },
  {
   "cell_type": "markdown",
   "id": "8f8853c0-cbee-47bf-86e9-4d9cec0861af",
   "metadata": {},
   "source": [
    "For this example, we're going to generate photometry and RVs in Keck Kp band. Any passband set up in both PHOEBE and SPISEA can be used by Phitter for simulating fluxes and RVs."
   ]
  },
  {
   "cell_type": "code",
   "execution_count": 2,
   "id": "1b667621-5824-4db6-8352-cbf311dc0f9e",
   "metadata": {},
   "outputs": [],
   "source": [
    "filter_kp = filters.nirc2_kp_filt()"
   ]
  },
  {
   "cell_type": "markdown",
   "id": "3e2682cf-748e-418f-9cb8-88768e20fa43",
   "metadata": {},
   "source": [
    "## Set up stellar and binary system parameters"
   ]
  },
  {
   "cell_type": "markdown",
   "id": "1e6016bf-4cd4-40dd-a3a8-8e7db3e3a293",
   "metadata": {},
   "source": [
    "### Stellar parameters\n",
    "\n",
    "We're going to set up parameters for the component stars in the binary system with photometry derived from a blackbody. This requires providing mass, radius, and temperature for each star."
   ]
  },
  {
   "cell_type": "code",
   "execution_count": 3,
   "id": "7bd1ddde-895a-4955-a4e1-91bcaf5a574c",
   "metadata": {},
   "outputs": [],
   "source": [
    "# Star parameters\n",
    "\n",
    "bb_stellar_params_obj = blackbody_params.bb_stellar_params()\n",
    "\n",
    "star1_params = bb_stellar_params_obj.calc_star_params(\n",
    "    50 * u.solMass, 52 * u.solRad, 30_000 * u.K,\n",
    ")\n",
    "\n",
    "star2_params = bb_stellar_params_obj.calc_star_params(\n",
    "    45 * u.solMass, 45 * u.solRad, 25_000 * u.K,\n",
    ")"
   ]
  },
  {
   "cell_type": "markdown",
   "id": "9c6f39fa-3a0b-4e05-9608-1e40f4978d6b",
   "metadata": {},
   "source": [
    "## Set up a binary parameters object\n",
    "\n",
    "A separate object is set up to specify the parameters of the binary system"
   ]
  },
  {
   "cell_type": "code",
   "execution_count": 4,
   "id": "730dce9a-7c38-49db-b365-52c0eeeddf71",
   "metadata": {},
   "outputs": [],
   "source": [
    "# Binary parameters\n",
    "bin_params = binary_params.binary_params()\n",
    "\n",
    "bin_params.period = 20.0 * u.d\n",
    "bin_params.ecc = 0.05\n",
    "bin_params.inc = 80.0 * u.deg\n",
    "bin_params.t0 = 53_800.0"
   ]
  },
  {
   "cell_type": "markdown",
   "id": "69994ce3-1277-4c74-88c3-0b75768fd365",
   "metadata": {},
   "source": [
    "## Set up of observables to be calculated"
   ]
  },
  {
   "cell_type": "markdown",
   "id": "b3c9ff78-cbf5-46ee-a2c4-878dfd38991d",
   "metadata": {},
   "source": [
    "We need to set up an observables object to specify the times and types of observables that need to be computed. For this example, let's compute flux in Keck K-band and RVs uniformly over the entire orbital phase of the binary."
   ]
  },
  {
   "cell_type": "code",
   "execution_count": 5,
   "id": "3065071c-3fb3-4009-9b08-1bfd0e13765a",
   "metadata": {},
   "outputs": [],
   "source": [
    "# Set up model times\n",
    "# Model times are in MJD here\n",
    "model_phases = np.linspace(0, 1, num=100)\n",
    "model_times = model_phases * bin_params.period.value + bin_params.t0"
   ]
  },
  {
   "cell_type": "code",
   "execution_count": 6,
   "id": "7a677a15-6ae6-4c0d-b040-4bb48a8eac76",
   "metadata": {},
   "outputs": [],
   "source": [
    "# Set up filter and observation type arrays for the model fluxes and RVs\n",
    "\n",
    "kp_filt_arr = np.full(len(model_phases), filter_kp)\n",
    "kp_type_arr = np.full(len(model_phases), 'phot')\n",
    "\n",
    "rv_pri_filt_arr = np.full(len(model_phases), filter_kp)\n",
    "rv_pri_type_arr = np.full(len(model_phases), 'rv_pri')\n",
    "\n",
    "rv_sec_filt_arr = np.full(len(model_phases), filter_kp)\n",
    "rv_sec_type_arr = np.full(len(model_phases), 'rv_sec')"
   ]
  },
  {
   "cell_type": "code",
   "execution_count": 7,
   "id": "88c50d5f-429c-4048-8845-88c329244ffe",
   "metadata": {},
   "outputs": [],
   "source": [
    "# Now make arrays for all the times, filters, and observation types by concatenating the above arrays\n",
    "\n",
    "obs_times = np.concatenate(\n",
    "    (model_times, model_times, model_times),\n",
    ")\n",
    "obs_filts = np.concatenate(\n",
    "    (kp_filt_arr, rv_pri_filt_arr, rv_sec_filt_arr,),\n",
    ")\n",
    "obs_types = np.concatenate(\n",
    "    (kp_type_arr, rv_pri_type_arr, rv_sec_type_arr,),\n",
    ")"
   ]
  },
  {
   "cell_type": "code",
   "execution_count": 8,
   "id": "fb5971df-e184-401f-acfa-ff738d77457d",
   "metadata": {},
   "outputs": [],
   "source": [
    "# Finally, construct the observables object\n",
    "\n",
    "model_observables = observables.observables(\n",
    "    obs_times=obs_times,\n",
    "    obs_filts=obs_filts, obs_types=obs_types,\n",
    ")"
   ]
  },
  {
   "cell_type": "markdown",
   "id": "1e094786-7764-47cd-80d9-9a385fd86243",
   "metadata": {},
   "source": [
    "## Compute the observables"
   ]
  },
  {
   "cell_type": "markdown",
   "id": "a5d55815-fc5f-4d6d-8912-37322bdcd843",
   "metadata": {},
   "source": [
    "First a model observation calculation object (`model_obs_calc`) has to be instantiated, with the observables as input parameters. This object will be carrying out the calculations."
   ]
  },
  {
   "cell_type": "code",
   "execution_count": 9,
   "id": "c6503f59-5dab-4ec3-be5b-df8713e14771",
   "metadata": {},
   "outputs": [],
   "source": [
    "# Object to perform the computation of flux and RVs\n",
    "\n",
    "binary_model_obj = model_obs_calc.binary_star_model_obs(\n",
    "    model_observables,\n",
    "    use_blackbody_atm=True,\n",
    "    print_diagnostics=False,\n",
    ")"
   ]
  },
  {
   "cell_type": "markdown",
   "id": "0c050860-6865-445e-9923-aadcc2974110",
   "metadata": {},
   "source": [
    "The modeled observables can then be simulated by inputting the stellar and binary parameters."
   ]
  },
  {
   "cell_type": "code",
   "execution_count": 10,
   "id": "964992ba-a353-404e-993f-426d66331f2a",
   "metadata": {},
   "outputs": [],
   "source": [
    "modeled_observables = binary_model_obj.compute_obs(\n",
    "    star1_params, star2_params, bin_params,\n",
    ")"
   ]
  },
  {
   "cell_type": "markdown",
   "id": "46c0bcd8-45ab-482b-a753-00f41a3cecff",
   "metadata": {},
   "source": [
    "## Process and plot the modeled observables"
   ]
  },
  {
   "cell_type": "markdown",
   "id": "681709d2-5ce4-4794-a1cd-c17afa0d545c",
   "metadata": {},
   "source": [
    "We can extract the different observables (flux and RVs of the primary and secondary object) from the output observables object. The observables object has numpy filters for each passband and data types that we can use for this."
   ]
  },
  {
   "cell_type": "code",
   "execution_count": 11,
   "id": "fb6090a0-70d8-4f4a-b6b2-c233a257e88b",
   "metadata": {},
   "outputs": [
    {
     "name": "stdout",
     "output_type": "stream",
     "text": [
      "Kp-band mags: [-7.5216657  -7.53972456 -7.5216657  -7.53734633 -7.58025251 -7.63846053\n",
      " -7.70128519 -7.76292451 -7.81979558 -7.87059033 -7.91483547 -7.95240259\n",
      " -7.98279677 -8.00657405 -8.02322366 -8.03172271 -8.03989347 -8.04860029\n",
      " -8.05727986 -8.06555845 -8.07347951 -8.08037767 -8.08609808 -8.09077146\n",
      " -8.09392676 -8.09520762 -8.09557121 -8.09430834 -8.09129548 -8.08705575\n",
      " -8.08157152 -8.07520896 -8.06824355 -8.06062953 -8.05298682 -8.0454252\n",
      " -8.03842117 -8.02654837 -8.00746362 -7.98222987 -7.95117477 -7.91450689\n",
      " -7.87241975 -7.82595624 -7.77576576 -7.72423427 -7.67567834 -7.63671158\n",
      " -7.61622983 -7.62138789 -7.65019962 -7.69433711 -7.74504379 -7.79678536\n",
      " -7.84628453 -7.89170482 -7.93219444 -7.96695628 -7.99580966 -8.01820065\n",
      " -8.03263269 -8.03764106 -8.04234726 -8.04695943 -8.05147356 -8.05582394\n",
      " -8.06005113 -8.06383782 -8.06744591 -8.07045797 -8.07319668 -8.07538945\n",
      " -8.0769968  -8.07774637 -8.07814732 -8.07781037 -8.07699569 -8.07555369\n",
      " -8.0735137  -8.07071239 -8.06746764 -8.06365952 -8.05938393 -8.05501569\n",
      " -8.05031374 -8.04511595 -8.03977557 -8.0346456  -8.0292502  -8.02414868\n",
      " -8.01214889 -7.98943002 -7.95897449 -7.92147887 -7.87689692 -7.82590565\n",
      " -7.76851348 -7.70672176 -7.64340309 -7.58419102]\n",
      "Star 1 RVs: [  -8.35177514  -37.62750537  -60.17631076  -75.16697726  -85.14921413\n",
      "  -92.32145733  -98.06839459 -103.18484849 -108.10653564 -113.12404417\n",
      " -118.38084487 -124.04498427 -130.33453829 -137.57887872 -144.27360355\n",
      " -150.22023325 -155.44172485 -159.89709486 -163.60812093 -166.63016331\n",
      " -168.95091251 -170.53284436 -171.45901314 -171.66223522 -171.19828183\n",
      " -170.02356731 -168.22385521 -165.73226838 -162.52011806 -158.70504456\n",
      " -154.17562181 -148.97992734 -143.084383   -136.52654962 -129.32082041\n",
      " -121.53342181 -113.19276392 -104.34199502  -95.06299902  -85.40730364\n",
      "  -75.44727227  -65.20866111  -54.80346614  -44.20455232  -33.53708874\n",
      "  -22.81708002  -12.09864752   -1.44792001    9.12191176   19.55323168\n",
      "   29.77907384   39.80989107   49.57086986   59.02903546   68.18074027\n",
      "   76.97467361   85.39843732   93.40030598  100.98920239  108.13588\n",
      "  114.81374745  121.02520826  126.75365099  131.98071908  136.72428646\n",
      "  140.97665934  144.7199212   147.95742518  150.70572703  152.94372373\n",
      "  154.6729517   155.91013569  156.63225374  156.87243205  156.57920167\n",
      "  155.81519272  154.50218809  152.68058234  150.36325533  147.52140265\n",
      "  144.22440413  140.2928547   135.89778095  130.99100754  125.56430282\n",
      "  119.5955293   113.14863192  106.19070653   99.99157798   95.16461972\n",
      "   90.87249646   86.82046828   82.7983638    78.47782826   73.42037463\n",
      "   66.82042581   57.35538457   42.81016054   20.69919552   -8.35177514] km/s\n",
      "Star 2 RVs: [   9.27329234   21.13607762   33.04868954   44.91481353   56.67747163\n",
      "   68.32052788   79.76499267   90.9650529   101.84394757  112.33324647\n",
      "  122.39792542  131.96934821  140.96537842  149.39477409  157.15200796\n",
      "  164.19885395  170.5401199   176.11486627  180.89931018  184.87163145\n",
      "  188.05527754  190.38039375  191.84379267  192.47834748  192.24739469\n",
      "  191.19224302  189.25900253  186.49537192  182.88662709  178.45246373\n",
      "  173.20884498  167.16556341  160.38900423  152.87517338  144.6802874\n",
      "  137.17853641  130.86244293  125.20313271  119.97963699  114.99175057\n",
      "  109.96725175  104.53356143   97.94153471   88.91288612   75.12452418\n",
      "   53.21284677   21.71148581  -13.29176863  -41.64746431  -60.31503746\n",
      "  -71.84763661  -79.39827243  -84.8725015   -89.33539971  -93.42239705\n",
      "  -97.47357718 -101.7928856  -106.69480462 -112.70478751 -120.60916754\n",
      " -128.10497687 -135.06393047 -141.5216426  -147.38946201 -152.71909972\n",
      " -157.49940949 -161.67449868 -165.28673942 -168.32124298 -170.77406623\n",
      " -172.6231765  -173.87994856 -174.57333558 -174.66162926 -174.14144324\n",
      " -173.05441638 -171.37295454 -169.11239545 -166.2534137  -162.82993375\n",
      " -158.79721528 -154.2025322  -149.07207922 -143.3563947  -137.09781381\n",
      " -130.29635756 -122.98938225 -115.15872155 -106.83286168  -98.04416483\n",
      "  -88.81475019  -79.16238105  -69.12035673  -58.70991393  -47.96253822\n",
      "  -36.9468302   -25.65695027  -14.17575326   -2.49081524    9.27329234] km/s\n"
     ]
    }
   ],
   "source": [
    "# Fluxes in mags\n",
    "modeled_kp_mags = modeled_observables.obs[modeled_observables.phot_filt_filters[filter_kp]]\n",
    "\n",
    "print(f'Kp-band mags: {modeled_kp_mags}')\n",
    "\n",
    "# RVs in km/s\n",
    "modeled_rvs_star1 = modeled_observables.obs[modeled_observables.obs_rv_pri_filter]\n",
    "modeled_rvs_star2 = modeled_observables.obs[modeled_observables.obs_rv_sec_filter]\n",
    "\n",
    "print(f'Star 1 RVs: {modeled_rvs_star1} km/s')\n",
    "print(f'Star 2 RVs: {modeled_rvs_star2} km/s')"
   ]
  },
  {
   "cell_type": "markdown",
   "id": "990799a1-d221-4250-9741-fb85081d1955",
   "metadata": {},
   "source": [
    "Now that we have the modeled observables, we can plot them for this model binary"
   ]
  },
  {
   "cell_type": "code",
   "execution_count": 12,
   "id": "d3b3955f-3360-44ed-901c-c1cc20457aa7",
   "metadata": {},
   "outputs": [
    {
     "data": {
      "text/plain": [
       "<matplotlib.legend.Legend at 0x157ca0640>"
      ]
     },
     "execution_count": 12,
     "metadata": {},
     "output_type": "execute_result"
    },
    {
     "data": {
      "image/png": "[encoded data removed]",
      "text/plain": [
       "<Figure size 600x600 with 2 Axes>"
      ]
     },
     "metadata": {},
     "output_type": "display_data"
    }
   ],
   "source": [
    "fig = plt.figure(figsize=(6,6))\n",
    "\n",
    "# Kp mags subplot\n",
    "ax_mag_kp = fig.add_subplot(2,1,1)\n",
    "\n",
    "ax_mag_kp.plot(\n",
    "    model_phases, modeled_kp_mags,\n",
    "    '-', color='C1',\n",
    ")\n",
    "\n",
    "ax_mag_kp.set_xlim([0, 1])\n",
    "\n",
    "ax_mag_kp.invert_yaxis()\n",
    "ax_mag_kp.set_ylabel(r\"$M_{K'}$\")\n",
    "\n",
    "# RVs subplot\n",
    "ax_rvs = fig.add_subplot(2,1,2)\n",
    "\n",
    "ax_rvs.plot(\n",
    "    model_phases, modeled_rvs_star1,\n",
    "    '-', color='C9', label='Star 1',\n",
    ")\n",
    "\n",
    "ax_rvs.plot(\n",
    "    model_phases, modeled_rvs_star2,\n",
    "    '-', color='C3', label='Star 2',\n",
    ")\n",
    "\n",
    "ax_rvs.set_xlabel(f\"Phase (period = {bin_params.period:.1f})\")\n",
    "ax_rvs.set_xlim([0, 1])\n",
    "\n",
    "ax_rvs.set_ylabel(\"Radial Velocity (km/s)\")\n",
    "\n",
    "ax_rvs.legend(loc='lower center', ncol=2)\n"
   ]
  },
  {
   "cell_type": "markdown",
   "id": "7085c35c-6f6d-4026-83f2-3d14fe846ead",
   "metadata": {},
   "source": [
    "## Bonus: make mesh plots to aide visualization"
   ]
  },
  {
   "cell_type": "markdown",
   "id": "19e9ad00-5c84-4178-bdaa-394199d71c08",
   "metadata": {},
   "source": [
    "The above plot is great to see the modeled observables. But it can be helpful to see what the modeled binary system looks like. Let's add simulate some mesh outlines of the stellar surfaces to see what this model binary looks like…\n",
    "\n",
    "We need to make a figure first where we'll do the plotting. We can be extra specific about the layout of the mesh plots in this figure, so let's do that!"
   ]
  },
  {
   "cell_type": "code",
   "execution_count": null,
   "id": "1c5c4acd-b75a-4d00-9922-d7304fce6101",
   "metadata": {},
   "outputs": [],
   "source": [
    "# Set up figure and specificy mesh plot outputs\n",
    "\n",
    "fig = plt.figure(figsize=(8,8))\n",
    "gs = plt.GridSpec(5, 5,)\n",
    "\n",
    "mesh_plot_phases = np.array([0.0, 0.25, 0.5, 0.75, 1.0])\n",
    "\n",
    "modeled_observables, mesh_plot_out, fig = binary_model_obj.compute_obs(\n",
    "    star1_params, star2_params, bin_params,\n",
    "    make_mesh_plots=True,\n",
    "    mesh_plot_phases=mesh_plot_phases,\n",
    "    mesh_plot_fig=fig,\n",
    "    mesh_plot_subplot_grid=(3,5),\n",
    "    mesh_plot_subplot_grid_indexes=np.array([1, 2, 3, 4, 5,]),\n",
    "    num_triangles=500,\n",
    ")\n",
    "\n",
    "# The mesh subplots show here since we have matplotlib inline enabled"
   ]
  },
  {
   "cell_type": "code",
   "execution_count": null,
   "id": "96d91ad0-0f6a-4669-861e-153b40148852",
   "metadata": {},
   "outputs": [],
   "source": [
    "# Finish constructing the whole figure\n",
    "\n",
    "# Fluxes in mags\n",
    "modeled_kp_mags = modeled_observables.obs[modeled_observables.phot_filt_filters[filter_kp]]\n",
    "\n",
    "# RVs in km/s\n",
    "modeled_rvs_star1 = modeled_observables.obs[modeled_observables.obs_rv_pri_filter]\n",
    "modeled_rvs_star2 = modeled_observables.obs[modeled_observables.obs_rv_sec_filter]\n",
    "\n",
    "# Label the mesh subplots\n",
    "# # Remove empty axes\n",
    "# for ax in fig.axes:\n",
    "#     if ax.get_xlabel() == '':\n",
    "#         ax.remove()\n",
    "\n",
    "# # Make mesh axes share axes\n",
    "# mesh_axes = []\n",
    "\n",
    "for ax_index, phase in enumerate(mesh_plot_phases):\n",
    "    ax = fig.axes[ax_index]\n",
    "    \n",
    "    ax.set_title(f'Phase = {phase:.2f}')\n",
    "    \n",
    "    # Decrease linewidths of the triangles in the mesh, for legibility in final plot\n",
    "    for child in ax.get_children():\n",
    "        if isinstance(child, mpl.collections.PolyCollection):\n",
    "            child.set(lw=0.25)\n",
    "    \n",
    "    # mesh_axes.append(ax)\n",
    "\n",
    "# Draw observables subplots\n",
    "# Kp mags subplot\n",
    "ax_mag_kp = fig.add_subplot(3,1,2)\n",
    "\n",
    "ax_mag_kp.plot(\n",
    "    model_phases, modeled_kp_mags,\n",
    "    '-', color='C1',\n",
    ")\n",
    "\n",
    "ax_mag_kp.set_xlim([0, 1])\n",
    "\n",
    "ax_mag_kp.invert_yaxis()\n",
    "ax_mag_kp.set_ylabel(r\"$M_{K'}$\")\n",
    "\n",
    "# RVs subplot\n",
    "ax_rvs = fig.add_subplot(3,1,3)\n",
    "\n",
    "ax_rvs.plot(\n",
    "    model_phases, modeled_rvs_star1,\n",
    "    '-', color='C9', label='Star 1',\n",
    ")\n",
    "\n",
    "ax_rvs.plot(\n",
    "    model_phases, modeled_rvs_star2,\n",
    "    '-', color='C3', label='Star 2',\n",
    ")\n",
    "\n",
    "ax_rvs.set_xlabel(f\"Phase (period = {bin_params.period:.1f})\")\n",
    "ax_rvs.set_xlim([0, 1])\n",
    "\n",
    "ax_rvs.set_ylabel(\"Radial Velocity (km/s)\")\n",
    "\n",
    "ax_rvs.legend(loc='lower center', ncol=2)\n",
    "\n",
    "fig.set_size_inches(8, 8)\n",
    "fig.tight_layout()\n",
    "\n",
    "fig"
   ]
  }
 ],
 "metadata": {
  "kernelspec": {
   "display_name": "Python [conda env:phoebe_py38]",
   "language": "python",
   "name": "conda-env-phoebe_py38-py"
  },
  "language_info": {
   "codemirror_mode": {
    "name": "ipython",
    "version": 3
   },
   "file_extension": ".py",
   "mimetype": "text/x-python",
   "name": "python",
   "nbconvert_exporter": "python",
   "pygments_lexer": "ipython3",
   "version": "3.8.16"
  }
 },
 "nbformat": 4,
 "nbformat_minor": 5
}
