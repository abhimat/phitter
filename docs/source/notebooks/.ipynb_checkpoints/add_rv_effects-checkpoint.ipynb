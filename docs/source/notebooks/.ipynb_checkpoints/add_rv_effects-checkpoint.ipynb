{
 "cells": [
  {
   "cell_type": "markdown",
   "id": "6fa0dd04-0145-448f-9e4e-90d6982e6bc6",
   "metadata": {},
   "source": [
    "# Tutorial: Add additional effects to simulated radial velocities"
   ]
  },
  {
   "cell_type": "markdown",
   "id": "3f59510a-c27f-40d0-9ece-d633b9238172",
   "metadata": {},
   "source": [
    "By default, radial velocities (RVs) simulated from Phitter's model binaries have zero center of mass RV. Currently Phitter allows adding a constant offset. More complex offsets to the center of mass (such as motion of the binary in a wider orbit) are planned for the future."
   ]
  },
  {
   "cell_type": "markdown",
   "id": "d04845e0-cc8d-4b7e-964b-3a5e8d36e720",
   "metadata": {},
   "source": [
    "## Imports"
   ]
  },
  {
   "cell_type": "code",
   "execution_count": 1,
   "id": "5acda20f-f3d8-4d41-adfc-d831f7c51d0f",
   "metadata": {},
   "outputs": [
    {
     "name": "stderr",
     "output_type": "stream",
     "text": [
      "/Users/abhimat/Software/miniforge3/envs/phoebe_py38/lib/python3.8/site-packages/pysynphot/locations.py:345: UserWarning: Extinction files not found in /Volumes/Noh/models/cdbs/extinction\n",
      "  warnings.warn('Extinction files not found in %s' % (extdir, ))\n"
     ]
    }
   ],
   "source": [
    "from phitter import observables, filters\n",
    "from phitter.params import star_params, binary_params, isoc_interp_params\n",
    "from phitter.calc import model_obs_calc, phot_adj_calc, rv_adj_calc\n",
    "\n",
    "import numpy as np\n",
    "\n",
    "from phoebe import u\n",
    "from phoebe import c as const\n",
    "import matplotlib as mpl\n",
    "import matplotlib.pyplot as plt\n",
    "\n",
    "%matplotlib inline\n",
    "\n",
    "# The following warning regarding extinction originates from SPISEA and can be ignored.\n",
    "# The functionality being warned about is not used by SPISEA."
   ]
  },
  {
   "cell_type": "markdown",
   "id": "20fa1154-a377-435d-a7e2-4e83dc7008ce",
   "metadata": {},
   "source": [
    "## Set up model binary"
   ]
  },
  {
   "cell_type": "markdown",
   "id": "8f8853c0-cbee-47bf-86e9-4d9cec0861af",
   "metadata": {},
   "source": [
    "Let's build off the same red giant binary system we simulated in the [previous tutorial](add_phot_effects)."
   ]
  },
  {
   "cell_type": "code",
   "execution_count": 2,
   "id": "1b667621-5824-4db6-8352-cbf311dc0f9e",
   "metadata": {},
   "outputs": [],
   "source": [
    "filter_153m = filters.hst_f153m_filt()\n",
    "filter_127m = filters.hst_f127m_filt()"
   ]
  },
  {
   "cell_type": "code",
   "execution_count": 3,
   "id": "6f2fa0d1-6ced-400a-8863-a9409eee78fb",
   "metadata": {},
   "outputs": [],
   "source": [
    "# Object for interpolating stellar parameters from an isochrone\n",
    "\n",
    "isoc_stellar_params_obj = isoc_interp_params.isoc_mist_stellar_params(\n",
    "    age=8e9,\n",
    "    met=0.0,\n",
    "    use_atm_func='merged',\n",
    "    phase='RGB',\n",
    "    ext_Ks=2.2,\n",
    "    dist=8e3*u.pc,\n",
    "    filts_list=[filter_153m, filter_127m],\n",
    "    ext_law='NL18',\n",
    ")"
   ]
  },
  {
   "cell_type": "code",
   "execution_count": 4,
   "id": "0548e9c6-2a4c-47df-a861-aad906421ed3",
   "metadata": {},
   "outputs": [
    {
     "name": "stdout",
     "output_type": "stream",
     "text": [
      "Star 1 Parameters\n",
      "mass_init = 1.103 solMass\n",
      "mass = 1.100 solMass\n",
      "rad = 15.000 solRad\n",
      "lum = 70.325 solLum\n",
      "teff = 4315.7 K\n",
      "logg = 2.127\n",
      "syncpar = 1.000\n",
      "---\n",
      "filt <phitter.filters.hst_f153m_filt object at 0x112d66880>:\n",
      "mag = 17.457\n",
      "mag_abs = -1.909\n",
      "pblum = 0.975 solLum\n",
      "filt <phitter.filters.hst_f127m_filt object at 0x112d66b20>:\n",
      "mag = 20.483\n",
      "mag_abs = -1.431\n",
      "pblum = 1.181 solLum\n",
      "\n",
      "Star 2 Parameters\n",
      "mass_init = 1.102 solMass\n",
      "mass = 1.100 solMass\n",
      "rad = 12.000 solRad\n",
      "lum = 49.434 solLum\n",
      "teff = 4418.1 K\n",
      "logg = 2.321\n",
      "syncpar = 1.000\n",
      "---\n",
      "filt <phitter.filters.hst_f153m_filt object at 0x112d66880>:\n",
      "mag = 17.883\n",
      "mag_abs = -1.483\n",
      "pblum = 0.659 solLum\n",
      "filt <phitter.filters.hst_f127m_filt object at 0x112d66b20>:\n",
      "mag = 20.887\n",
      "mag_abs = -1.028\n",
      "pblum = 0.815 solLum\n",
      "\n"
     ]
    }
   ],
   "source": [
    "star1_params = isoc_stellar_params_obj.interp_star_params_rad(\n",
    "    15,\n",
    ")\n",
    "\n",
    "print(\"Star 1 Parameters\")\n",
    "print(star1_params)\n",
    "\n",
    "star2_params = isoc_stellar_params_obj.interp_star_params_rad(\n",
    "    12,\n",
    ")\n",
    "\n",
    "print(\"Star 2 Parameters\")\n",
    "print(star2_params)"
   ]
  },
  {
   "cell_type": "code",
   "execution_count": 5,
   "id": "730dce9a-7c38-49db-b365-52c0eeeddf71",
   "metadata": {},
   "outputs": [],
   "source": [
    "# Binary parameters\n",
    "bin_params = binary_params.binary_params()\n",
    "\n",
    "bin_params.period = 30.0 * u.d\n",
    "bin_params.ecc = 0.2\n",
    "bin_params.inc = 80.0 * u.deg\n",
    "bin_params.t0 = 53_800.0"
   ]
  },
  {
   "cell_type": "code",
   "execution_count": 6,
   "id": "3065071c-3fb3-4009-9b08-1bfd0e13765a",
   "metadata": {},
   "outputs": [],
   "source": [
    "# Set up model times\n",
    "# Model times are in MJD here\n",
    "model_phases = np.linspace(0, 1, num=100)\n",
    "model_times = model_phases * bin_params.period.value + bin_params.t0"
   ]
  },
  {
   "cell_type": "code",
   "execution_count": 7,
   "id": "7a677a15-6ae6-4c0d-b040-4bb48a8eac76",
   "metadata": {},
   "outputs": [],
   "source": [
    "# Set up filter and observation type arrays for the model fluxes and RVs\n",
    "\n",
    "flux_153m_filt_arr = np.full(len(model_phases), filter_153m)\n",
    "flux_153m_type_arr = np.full(len(model_phases), 'phot')\n",
    "\n",
    "flux_127m_filt_arr = np.full(len(model_phases), filter_127m)\n",
    "flux_127m_type_arr = np.full(len(model_phases), 'phot')\n",
    "\n",
    "rv_pri_filt_arr = np.full(len(model_phases), filter_153m)\n",
    "rv_pri_type_arr = np.full(len(model_phases), 'rv_pri')\n",
    "\n",
    "rv_sec_filt_arr = np.full(len(model_phases), filter_153m)\n",
    "rv_sec_type_arr = np.full(len(model_phases), 'rv_sec')"
   ]
  },
  {
   "cell_type": "code",
   "execution_count": 8,
   "id": "88c50d5f-429c-4048-8845-88c329244ffe",
   "metadata": {},
   "outputs": [],
   "source": [
    "# Now make arrays for all the times, filters, and observation types by concatenating the above arrays\n",
    "\n",
    "obs_times = np.concatenate(\n",
    "    (model_times, model_times, model_times, model_times),\n",
    ")\n",
    "obs_filts = np.concatenate(\n",
    "    (flux_153m_filt_arr, flux_127m_filt_arr, rv_pri_filt_arr, rv_sec_filt_arr,),\n",
    ")\n",
    "obs_types = np.concatenate(\n",
    "    (flux_153m_type_arr, flux_127m_type_arr, rv_pri_type_arr, rv_sec_type_arr,),\n",
    ")"
   ]
  },
  {
   "cell_type": "code",
   "execution_count": 9,
   "id": "fb5971df-e184-401f-acfa-ff738d77457d",
   "metadata": {},
   "outputs": [],
   "source": [
    "# Finally, construct the observables object\n",
    "\n",
    "model_observables = observables.observables(\n",
    "    obs_times=obs_times,\n",
    "    obs_filts=obs_filts, obs_types=obs_types,\n",
    ")"
   ]
  },
  {
   "cell_type": "code",
   "execution_count": 10,
   "id": "c6503f59-5dab-4ec3-be5b-df8713e14771",
   "metadata": {},
   "outputs": [],
   "source": [
    "# Object to perform the computation of flux and RVs\n",
    "\n",
    "binary_model_obj = model_obs_calc.binary_star_model_obs(\n",
    "    model_observables,\n",
    "    use_blackbody_atm=False,\n",
    "    print_diagnostics=False,\n",
    ")"
   ]
  },
  {
   "cell_type": "code",
   "execution_count": 11,
   "id": "964992ba-a353-404e-993f-426d66331f2a",
   "metadata": {},
   "outputs": [],
   "source": [
    "modeled_observables = binary_model_obj.compute_obs(\n",
    "    star1_params, star2_params, bin_params,\n",
    ")"
   ]
  },
  {
   "cell_type": "code",
   "execution_count": 12,
   "id": "fb6090a0-70d8-4f4a-b6b2-c233a257e88b",
   "metadata": {},
   "outputs": [],
   "source": [
    "# Fluxes in mags\n",
    "modeled_mags_153m = modeled_observables.obs[modeled_observables.phot_filt_filters[filter_153m]]\n",
    "modeled_mags_127m = modeled_observables.obs[modeled_observables.phot_filt_filters[filter_127m]]\n",
    "\n",
    "# RVs in km/s\n",
    "modeled_rvs_star1 = modeled_observables.obs[modeled_observables.obs_rv_pri_filter]\n",
    "modeled_rvs_star2 = modeled_observables.obs[modeled_observables.obs_rv_sec_filter]\n"
   ]
  },
  {
   "cell_type": "code",
   "execution_count": 13,
   "id": "d9285e95-d25c-4a6e-b000-28425c800bb9",
   "metadata": {},
   "outputs": [],
   "source": [
    "# Add distance modulus\n",
    "\n",
    "modeled_observables = phot_adj_calc.apply_distance_modulus(\n",
    "    modeled_observables,\n",
    "    8e3*u.pc,\n",
    ")"
   ]
  },
  {
   "cell_type": "code",
   "execution_count": 14,
   "id": "22bdb1b6-ead0-4530-8c15-c812ed548283",
   "metadata": {},
   "outputs": [],
   "source": [
    "# Apply reddening from extinction\n",
    "\n",
    "modeled_observables = phot_adj_calc.apply_extinction(\n",
    "    modeled_observables,\n",
    "    isoc_Ks_ext=2.2,\n",
    "    ref_filt=filter_153m,\n",
    "    target_ref_filt_ext=4.5,\n",
    "    isoc_red_law='NL18',\n",
    "    ext_alpha=2.23,\n",
    ")"
   ]
  },
  {
   "cell_type": "code",
   "execution_count": 15,
   "id": "2a2762be-6896-43e3-b4e0-673f04fef98a",
   "metadata": {},
   "outputs": [
    {
     "data": {
      "text/plain": [
       "<matplotlib.legend.Legend at 0x17d342ee0>"
      ]
     },
     "execution_count": 15,
     "metadata": {},
     "output_type": "execute_result"
    },
    {
     "data": {
      "image/png": "[encoded data removed]",
      "text/plain": [
       "<Figure size 600x600 with 3 Axes>"
      ]
     },
     "metadata": {},
     "output_type": "display_data"
    }
   ],
   "source": [
    "# Fluxes in mags\n",
    "modeled_mags_153m = modeled_observables.obs[modeled_observables.phot_filt_filters[filter_153m]]\n",
    "modeled_mags_127m = modeled_observables.obs[modeled_observables.phot_filt_filters[filter_127m]]\n",
    "\n",
    "# RVs in km/s\n",
    "modeled_rvs_star1 = modeled_observables.obs[modeled_observables.obs_rv_pri_filter]\n",
    "modeled_rvs_star2 = modeled_observables.obs[modeled_observables.obs_rv_sec_filter]\n",
    "\n",
    "# Draw plot\n",
    "fig = plt.figure(figsize=(6,6))\n",
    "\n",
    "# F153M mags subplot\n",
    "ax_mag_153m = fig.add_subplot(3,1,1)\n",
    "\n",
    "ax_mag_153m.plot(\n",
    "    model_phases, modeled_mags_153m,\n",
    "    '-', color='C1',\n",
    ")\n",
    "\n",
    "ax_mag_153m.set_xlim([0, 1])\n",
    "\n",
    "ax_mag_153m.invert_yaxis()\n",
    "ax_mag_153m.set_ylabel(r\"$m_{F153M}$\")\n",
    "\n",
    "# F153M mags subplot\n",
    "ax_mag_127m = fig.add_subplot(3,1,2)\n",
    "\n",
    "ax_mag_127m.plot(\n",
    "    model_phases, modeled_mags_127m,\n",
    "    '-', color='C0',\n",
    ")\n",
    "\n",
    "ax_mag_127m.set_xlim([0, 1])\n",
    "\n",
    "ax_mag_127m.invert_yaxis()\n",
    "ax_mag_127m.set_ylabel(r\"$m_{F127M}$\")\n",
    "\n",
    "# RVs subplot\n",
    "ax_rvs = fig.add_subplot(3,1,3)\n",
    "\n",
    "ax_rvs.plot(\n",
    "    model_phases, modeled_rvs_star1,\n",
    "    '-', color='C9', label='Star 1',\n",
    ")\n",
    "\n",
    "ax_rvs.plot(\n",
    "    model_phases, modeled_rvs_star2,\n",
    "    '-', color='C3', label='Star 2',\n",
    ")\n",
    "\n",
    "ax_rvs.set_xlabel(f\"Phase (period = {bin_params.period:.1f})\")\n",
    "ax_rvs.set_xlim([0, 1])\n",
    "\n",
    "ax_rvs.set_ylabel(\"Radial Velocity (km/s)\")\n",
    "\n",
    "ax_rvs.legend(loc='lower center', ncol=2)\n"
   ]
  },
  {
   "cell_type": "markdown",
   "id": "b2ebe1a6-6f71-4cf2-bb21-c29e6ed3e6a0",
   "metadata": {},
   "source": [
    "# Add a constant offset for the center of mass RV"
   ]
  },
  {
   "cell_type": "code",
   "execution_count": 17,
   "id": "1f2e1757-2e40-40a4-887b-fece43a59cca",
   "metadata": {},
   "outputs": [
    {
     "ename": "NameError",
     "evalue": "name 'rv_adj_calc' is not defined",
     "output_type": "error",
     "traceback": [
      "\u001b[0;31m---------------------------------------------------------------------------\u001b[0m",
      "\u001b[0;31mNameError\u001b[0m                                 Traceback (most recent call last)",
      "Cell \u001b[0;32mIn[17], line 3\u001b[0m\n\u001b[1;32m      1\u001b[0m \u001b[38;5;66;03m# Apply reddening from extinction\u001b[39;00m\n\u001b[0;32m----> 3\u001b[0m modeled_observables \u001b[38;5;241m=\u001b[39m \u001b[43mrv_adj_calc\u001b[49m\u001b[38;5;241m.\u001b[39mapply_com_velocity(\n\u001b[1;32m      4\u001b[0m     modeled_observables,\n\u001b[1;32m      5\u001b[0m     \u001b[38;5;241m150.\u001b[39m \u001b[38;5;241m*\u001b[39m u\u001b[38;5;241m.\u001b[39mkm \u001b[38;5;241m/\u001b[39m u\u001b[38;5;241m.\u001b[39ms,\n\u001b[1;32m      6\u001b[0m )\n",
      "\u001b[0;31mNameError\u001b[0m: name 'rv_adj_calc' is not defined"
     ]
    }
   ],
   "source": [
    "# Apply reddening from extinction\n",
    "\n",
    "modeled_observables = rv_adj_calc.apply_com_velocity(\n",
    "    modeled_observables,\n",
    "    150. * u.km / u.s,\n",
    ")"
   ]
  },
  {
   "cell_type": "code",
   "execution_count": null,
   "id": "b379a319-a158-4f73-bb83-bea1bae78384",
   "metadata": {},
   "outputs": [],
   "source": []
  }
 ],
 "metadata": {
  "kernelspec": {
   "display_name": "Python [conda env:phoebe_py38]",
   "language": "python",
   "name": "conda-env-phoebe_py38-py"
  },
  "language_info": {
   "codemirror_mode": {
    "name": "ipython",
    "version": 3
   },
   "file_extension": ".py",
   "mimetype": "text/x-python",
   "name": "python",
   "nbconvert_exporter": "python",
   "pygments_lexer": "ipython3",
   "version": "3.8.16"
  }
 },
 "nbformat": 4,
 "nbformat_minor": 5
}
