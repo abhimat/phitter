{
 "cells": [
  {
   "cell_type": "markdown",
   "id": "6fa0dd04-0145-448f-9e4e-90d6982e6bc6",
   "metadata": {},
   "source": [
    "# Tutorial: Fit binary model to observed data using nested sampling via Ultranest"
   ]
  },
  {
   "cell_type": "markdown",
   "id": "3f59510a-c27f-40d0-9ece-d633b9238172",
   "metadata": {},
   "source": [
    "By default, radial velocities (RVs) simulated from Phitter's model binaries have zero center of mass RV. Currently Phitter allows adding a constant offset. More complex offsets to the center of mass (such as motion of the binary in a wider orbit) are planned for the future."
   ]
  },
  {
   "cell_type": "markdown",
   "id": "d04845e0-cc8d-4b7e-964b-3a5e8d36e720",
   "metadata": {},
   "source": [
    "## Imports and Filter Setup"
   ]
  },
  {
   "cell_type": "code",
   "execution_count": 1,
   "id": "5acda20f-f3d8-4d41-adfc-d831f7c51d0f",
   "metadata": {},
   "outputs": [
    {
     "name": "stderr",
     "output_type": "stream",
     "text": [
      "/Users/abhimat/Software/miniforge3/envs/phoebe_py38/lib/python3.8/site-packages/pysynphot/locations.py:345: UserWarning: Extinction files not found in /Volumes/Noh/models/cdbs/extinction\n",
      "  warnings.warn('Extinction files not found in %s' % (extdir, ))\n"
     ]
    }
   ],
   "source": [
    "from phitter import observables, filters\n",
    "from phitter.params import star_params, binary_params, isoc_interp_params\n",
    "from phitter.calc import model_obs_calc, phot_adj_calc, rv_adj_calc\n",
    "from phitter.fit import likelihood, prior\n",
    "\n",
    "import numpy as np\n",
    "\n",
    "from phoebe import u\n",
    "from phoebe import c as const\n",
    "import matplotlib as mpl\n",
    "import matplotlib.pyplot as plt\n",
    "\n",
    "import pickle\n",
    "from astropy.table import Table\n",
    "\n",
    "import ultranest\n",
    "import ultranest.stepsampler\n",
    "\n",
    "%matplotlib inline\n",
    "\n",
    "# The following warning regarding extinction originates from SPISEA and can be ignored.\n",
    "# The functionality being warned about is not used by SPISEA."
   ]
  },
  {
   "cell_type": "code",
   "execution_count": 2,
   "id": "1b667621-5824-4db6-8352-cbf311dc0f9e",
   "metadata": {},
   "outputs": [],
   "source": [
    "filter_153m = filters.hst_f153m_filt()\n",
    "filter_127m = filters.hst_f127m_filt()"
   ]
  },
  {
   "cell_type": "markdown",
   "id": "20fa1154-a377-435d-a7e2-4e83dc7008ce",
   "metadata": {
    "jp-MarkdownHeadingCollapsed": true,
    "tags": []
   },
   "source": [
    "## Prepare observations data"
   ]
  },
  {
   "cell_type": "markdown",
   "id": "8f8853c0-cbee-47bf-86e9-4d9cec0861af",
   "metadata": {},
   "source": [
    "Let's read in the mock data generated in a [separate example here](create_mock_data). Let's assume this data is for a red giant binary star belonging to an 8 Gyr old star population at the Galactic center."
   ]
  },
  {
   "cell_type": "code",
   "execution_count": 3,
   "id": "3eaf4459-9183-48b2-910e-3dec89ce6e31",
   "metadata": {},
   "outputs": [
    {
     "name": "stdout",
     "output_type": "stream",
     "text": [
      "    obs_times             obs         obs_uncs obs_types                       obs_filts                       \n",
      "------------------ ------------------ -------- --------- ------------------------------------------------------\n",
      "53800.714762925796 16.769110541124228    0.015      phot <phitter.filters.hst_f153m_filt object at 0x16c8582e0>\n",
      " 53802.78887450278 16.569960382011555    0.015      phot <phitter.filters.hst_f153m_filt object at 0x16c8582e0>\n",
      " 53804.08607971392 16.523859319835843    0.015      phot <phitter.filters.hst_f153m_filt object at 0x16c8582e0>\n",
      " 53804.64136070461  16.54425287095397    0.015      phot <phitter.filters.hst_f153m_filt object at 0x16c8582e0>\n",
      "53805.203583377115 16.551835703948942    0.015      phot <phitter.filters.hst_f153m_filt object at 0x16c8582e0>\n",
      " 53805.96328097839 16.559083907180494    0.015      phot <phitter.filters.hst_f153m_filt object at 0x16c8582e0>\n",
      "53806.315847597616 16.526208341236522    0.015      phot <phitter.filters.hst_f153m_filt object at 0x16c8582e0>\n",
      "53806.333495717256 16.549137149396568    0.015      phot <phitter.filters.hst_f153m_filt object at 0x16c8582e0>\n",
      "53807.488405082564  16.54357246902387    0.015      phot <phitter.filters.hst_f153m_filt object at 0x16c8582e0>\n",
      " 53807.67541617193 16.512582058125357    0.015      phot <phitter.filters.hst_f153m_filt object at 0x16c8582e0>\n",
      "               ...                ...      ...       ...                                                    ...\n",
      "53802.139836776325   130.228146222555     10.0    rv_pri <phitter.filters.hst_f153m_filt object at 0x16c8582e0>\n",
      " 53803.32979530006 114.02051863903269     10.0    rv_pri <phitter.filters.hst_f153m_filt object at 0x16c8582e0>\n",
      " 53804.46291200766 114.54568517998948     10.0    rv_pri <phitter.filters.hst_f153m_filt object at 0x16c8582e0>\n",
      "53813.273397048906 163.65481126090992     10.0    rv_pri <phitter.filters.hst_f153m_filt object at 0x16c8582e0>\n",
      " 53819.03215627737 175.28898537909566     10.0    rv_pri <phitter.filters.hst_f153m_filt object at 0x16c8582e0>\n",
      "53802.139836776325 164.33130628324724     10.0    rv_sec <phitter.filters.hst_f153m_filt object at 0x16c8582e0>\n",
      " 53803.32979530006 176.97897304376025     10.0    rv_sec <phitter.filters.hst_f153m_filt object at 0x16c8582e0>\n",
      " 53804.46291200766 190.80797816955624     10.0    rv_sec <phitter.filters.hst_f153m_filt object at 0x16c8582e0>\n",
      "53813.273397048906 129.70047968985767     10.0    rv_sec <phitter.filters.hst_f153m_filt object at 0x16c8582e0>\n",
      " 53819.03215627737  97.50308377106813     10.0    rv_sec <phitter.filters.hst_f153m_filt object at 0x16c8582e0>\n",
      "Length = 60 rows\n"
     ]
    }
   ],
   "source": [
    "with open('./mock_obs_table.pkl', 'rb') as in_file:\n",
    "    obs_table = pickle.load(in_file)\n",
    "\n",
    "print(obs_table)"
   ]
  },
  {
   "cell_type": "markdown",
   "id": "7d1ee275-6f87-4b30-bf35-14a67c01a2be",
   "metadata": {},
   "source": [
    "We create two new {py:obj}`phitter.observables` objects, one for modeling containing only the times, filters, and types of observations, and another for computing the likelihood, which will also contain the observations and associated uncertainties as well."
   ]
  },
  {
   "cell_type": "code",
   "execution_count": 4,
   "id": "419726ef-2620-4444-8e16-7b9e177e495d",
   "metadata": {},
   "outputs": [],
   "source": [
    "# Model observables object, which only contains times and types of observations\n",
    "model_observables = observables.observables(\n",
    "    obs_times=obs_table['obs_times'].data,\n",
    "    obs_filts=obs_table['obs_filts'].data, obs_types=obs_table['obs_types'].data,\n",
    ")\n",
    "\n",
    "# An observables object for the observations, used when computing likelihoods\n",
    "observations = observables.observables(\n",
    "    obs_times=obs_table['obs_times'].data, obs=obs_table['obs'].data, obs_uncs=obs_table['obs_uncs'].data,\n",
    "    obs_filts=obs_table['obs_filts'].data, obs_types=obs_table['obs_types'].data,\n",
    ")"
   ]
  },
  {
   "cell_type": "markdown",
   "id": "efd5a970-111c-48fc-b3fe-63d07c064acf",
   "metadata": {},
   "source": [
    "## Make stellar parameters and binary parameters objects for fitting"
   ]
  },
  {
   "cell_type": "markdown",
   "id": "bf4d2e70-4418-4d70-adb3-0343376e6a9f",
   "metadata": {},
   "source": [
    "Now we can make a stellar parameters object that we will use to derive the stellar parameters from an isochrone while fitting. Let's use our previous assumptions about what type of star this is: red giant in an 8 Gyr old star population.\n",
    "\n",
    "We also can create a binary parameters object that will store the binary parameters."
   ]
  },
  {
   "cell_type": "code",
   "execution_count": 5,
   "id": "6f2fa0d1-6ced-400a-8863-a9409eee78fb",
   "metadata": {},
   "outputs": [],
   "source": [
    "isoc_stellar_params_obj = isoc_interp_params.isoc_mist_stellar_params(\n",
    "    age=8e9,\n",
    "    met=0.0,\n",
    "    use_atm_func='merged',\n",
    "    phase='RGB',\n",
    "    ext_Ks=2.2,\n",
    "    dist=8e3*u.pc,\n",
    "    filts_list=[filter_153m, filter_127m],\n",
    "    ext_law='NL18',\n",
    ")\n",
    "\n",
    "# Make binary params objects\n",
    "bin_params = binary_params.binary_params()"
   ]
  },
  {
   "cell_type": "markdown",
   "id": "d9f15552-0b17-4f96-a0ec-510b03888fe1",
   "metadata": {},
   "source": [
    "## Set up model and likelihood objects"
   ]
  },
  {
   "cell_type": "markdown",
   "id": "a7a01693-19c8-43c9-9c01-46ad638709e6",
   "metadata": {},
   "source": [
    "In order to carry out our fitting, we will generate two more objects: a model object that will be used to compute observables and a likelihood object that will compute the likelihood from our observations."
   ]
  },
  {
   "cell_type": "code",
   "execution_count": 6,
   "id": "39f1c24f-dd80-4b3b-a59c-49d230cd0f7c",
   "metadata": {},
   "outputs": [],
   "source": [
    "# Set up a binary model object\n",
    "binary_model_obj = model_obs_calc.binary_star_model_obs(\n",
    "    model_observables,\n",
    "    use_blackbody_atm=False,\n",
    "    print_diagnostics=False,\n",
    ")\n",
    "\n",
    "# Set up likelihood object for fitting parameters\n",
    "log_like_obj = likelihood.log_likelihood_chisq(\n",
    "    observations\n",
    ")"
   ]
  },
  {
   "cell_type": "markdown",
   "id": "ae026544-329d-46f8-b9ea-d36c76190064",
   "metadata": {},
   "source": [
    "## Set up function for Ultranest to return likelihood from fit parameters"
   ]
  },
  {
   "cell_type": "markdown",
   "id": "bba049ed-ba74-42ef-835f-d8bc2d867d3e",
   "metadata": {},
   "source": [
    "Now we need to write a function that will be used by Ultranest for its sampling. This function will provide Ultranest with a likelihood for a given set of fit parameters.\n",
    "\n",
    "For our fitting, we'll fit our data to eight parameters:\n",
    "1. radius of star 1\n",
    "2. radius of star 2\n",
    "3. binary orbital period\n",
    "4. binary inclination\n",
    "5. system t0\n",
    "6. binary CoM velocity\n",
    "7. extinction in F153M passband\n",
    "8. extinction law alpha"
   ]
  },
  {
   "cell_type": "code",
   "execution_count": 7,
   "id": "a070badb-cff6-4042-a8a0-9a9ed568f0f0",
   "metadata": {},
   "outputs": [],
   "source": [
    "def un_evaluate(model_params, print_like=False):\n",
    "    (\n",
    "        star1_radius,\n",
    "        star2_radius,\n",
    "        bin_period,\n",
    "        bin_inc,\n",
    "        bin_t0,\n",
    "        bin_rv_com,\n",
    "        ext_153m,\n",
    "        ext_alpha,\n",
    "    ) = model_params\n",
    "    \n",
    "    # Obtain stellar params by interpolating along the isochrone\n",
    "    star1_params = isoc_stellar_params_obj.interp_star_params_rad(\n",
    "        star1_radius,\n",
    "    )\n",
    "    star2_params = isoc_stellar_params_obj.interp_star_params_rad(\n",
    "        star2_radius,\n",
    "    )\n",
    "    \n",
    "    # Set binary params\n",
    "    bin_params.period = bin_period * u.d\n",
    "    bin_params.inc = bin_inc * u.deg\n",
    "    bin_params.t0 = bin_t0\n",
    "    \n",
    "    # Run binary model\n",
    "    modeled_observables = binary_model_obj.compute_obs(\n",
    "        star1_params, star2_params, bin_params,\n",
    "        num_triangles=300,\n",
    "    )\n",
    "    \n",
    "    # Check for situation where binary model fails\n",
    "    # (i.e., unphysical conditions not able to be modeled)\n",
    "    if np.isnan(modeled_observables.obs_times[0]):\n",
    "        return -1e300\n",
    "    \n",
    "    # Apply distance modulus\n",
    "    # (We're assuming we know the distance, but this can be a fit parameter as well)\n",
    "    modeled_observables = phot_adj_calc.apply_distance_modulus(\n",
    "        modeled_observables,\n",
    "        7.971e3*u.pc,\n",
    "    )\n",
    "    \n",
    "    # Apply extinction\n",
    "    modeled_observables = phot_adj_calc.apply_extinction(\n",
    "        modeled_observables,\n",
    "        2.2, filter_153m,\n",
    "        ext_153m,\n",
    "        isoc_red_law='NL18',\n",
    "        ext_alpha=ext_alpha,\n",
    "    )\n",
    "    \n",
    "    # Add RV center of mass velocity\n",
    "    modeled_observables = rv_adj_calc.apply_com_velocity(\n",
    "        modeled_observables,\n",
    "        bin_rv_com * u.km / u.s,\n",
    "    )\n",
    "    \n",
    "    # Compute and return log likelihood\n",
    "    log_like = log_like_obj.evaluate(modeled_observables)\n",
    "    \n",
    "    return log_like\n"
   ]
  },
  {
   "cell_type": "markdown",
   "id": "edd4e15a-e329-4942-a2e3-a11d44290679",
   "metadata": {},
   "source": [
    "Let's test out our `un_evaluate()` function on some mock binary parameters"
   ]
  },
  {
   "cell_type": "code",
   "execution_count": 8,
   "id": "d876fc6a-e40f-4be0-9f58-2a79b98c5e89",
   "metadata": {},
   "outputs": [
    {
     "name": "stdout",
     "output_type": "stream",
     "text": [
      "log likelihood from test parameters = -42081.556\n",
      "log likelihood from \"truth\" parameters = -41.971\n"
     ]
    }
   ],
   "source": [
    "test_params = (\n",
    "    18., 10.,\n",
    "    23., 85.,\n",
    "    53_801.,\n",
    "    140.,\n",
    "    4.4, 2.22,\n",
    ")\n",
    "\n",
    "log_like_test = un_evaluate(test_params)\n",
    "\n",
    "print(f'log likelihood from test parameters = {log_like_test:.3f}')\n",
    "\n",
    "# Since we simulated these mock data ourselves, we know what the \"truth\" is here. So we can check that as well\n",
    "truth_params = (\n",
    "    15., 12.,\n",
    "    25., 75.,\n",
    "    53_800.,\n",
    "    150.,\n",
    "    4.5, 2.23,\n",
    ")\n",
    "\n",
    "log_like_truth = un_evaluate(truth_params)\n",
    "\n",
    "print(f'log likelihood from \"truth\" parameters = {log_like_truth:.3f}')"
   ]
  },
  {
   "cell_type": "markdown",
   "id": "1dbd60b5-73d1-4cc9-a995-7b5077e9518d",
   "metadata": {},
   "source": [
    "## Set up priors"
   ]
  },
  {
   "cell_type": "markdown",
   "id": "66e2e502-b484-455d-8e1d-8ea32da8a9fa",
   "metadata": {},
   "source": [
    "We need to set up prior for each of our fit parameters. {py:obj}`phitter.fit.prior` provides some useful functions to create priors and then put them into a collection that can be passed to Ultranest or other sampling codes."
   ]
  },
  {
   "cell_type": "code",
   "execution_count": 9,
   "id": "07dd525d-0380-4bf2-b0e1-243e0d6532fa",
   "metadata": {},
   "outputs": [],
   "source": [
    "star1_rad_prior = prior.uniform_prior(10.0, 25.0)\n",
    "star2_rad_prior = prior.uniform_prior(8.0, 15.0)\n",
    "\n",
    "bin_period_prior = prior.uniform_prior(24.0, 26.0)\n",
    "bin_inc_prior = prior.uniform_prior(0.0, 180.0)\n",
    "bin_t0_prior = prior.uniform_prior(53_795.0, 53_805.0)\n",
    "bin_rv_com_prior = prior.uniform_prior(100., 200.)\n",
    "\n",
    "ext_f153m_prior = prior.uniform_prior(4, 6)\n",
    "# We have a constraint on the extinction law (from Nogueras-Lara et al., 2019 here),\n",
    "# so we can set Gaussian prior on the extinction law alpha\n",
    "ext_alpha_prior = prior.gaussian_prior(2.23, 0.03)\n",
    "\n",
    "param_priors = prior.prior_collection([\n",
    "    star1_rad_prior,\n",
    "    star2_rad_prior,\n",
    "    bin_period_prior,\n",
    "    bin_inc_prior,\n",
    "    bin_t0_prior,\n",
    "    bin_rv_com_prior,\n",
    "    ext_f153m_prior,\n",
    "    ext_alpha_prior,\n",
    "])\n",
    "\n",
    "param_names = [\n",
    "    'star1_rad',\n",
    "    'star2_rad',\n",
    "    'bin_period',\n",
    "    'bin_inc',\n",
    "    'bin_t0',\n",
    "    'bin_rv_com',\n",
    "    'ext_f153m',\n",
    "    'ext_alpha',\n",
    "]\n",
    "\n",
    "# Ultranest supports wrapped / circular parameters, which inclination is in this example.\n",
    "# So we need to make a list to pass to Ultranest for which parameters are wrapped so that\n",
    "# it can appropriately handle it during sampling.\n",
    "wrapped_params = [\n",
    "    False,  # Star 1 Rad\n",
    "    False,  # Star 2 Rad\n",
    "    False,  # Binary period\n",
    "    True,   # Binary inclination\n",
    "    False,  # Binary t0\n",
    "    False,  # Binary CoM RV\n",
    "    False,  # F153M-band extinction\n",
    "    False,  # Extinction law alpha\n",
    "]"
   ]
  },
  {
   "cell_type": "markdown",
   "id": "8ed87fc2-89cd-41fa-b9d5-0a7b05eedac5",
   "metadata": {},
   "source": [
    "## Set up Ultranest Sampler and Run Sampler"
   ]
  },
  {
   "cell_type": "code",
   "execution_count": 10,
   "id": "c43f7ba2-b80b-4382-8b84-395da3af5f44",
   "metadata": {},
   "outputs": [],
   "source": [
    "sampler = ultranest.ReactiveNestedSampler(\n",
    "    param_names,\n",
    "    loglike = un_evaluate,   # Function that we wrote for ultranest to calculate likelihood\n",
    "    transform = param_priors.prior_transform_ultranest,  # Phitter's prior collection function to transform prior\n",
    "    log_dir='./un_out/',\n",
    "    resume='resume',\n",
    ")\n",
    "\n",
    "# Step sampler (A \"slice sampler\" is often more efficient when fitting many parameters)\n",
    "sampler.stepsampler = ultranest.stepsampler.SliceSampler(\n",
    "    nsteps=(2**3)*len(param_names),\n",
    "    generate_direction=ultranest.stepsampler.generate_mixture_random_direction,\n",
    ")"
   ]
  },
  {
   "cell_type": "markdown",
   "id": "3d6e311b-2f07-422b-9464-94189c9adc75",
   "metadata": {},
   "source": [
    "The syntax below shows how to run the sampler. However for speed, I wrote a [separate script](fit_with_ultranest.py) that can be parallelized with MPI. In order to run the example script, the following syntax can be used in the shell:\n",
    "\n",
    "```sh\n",
    "mpiexec -np [num_cores] ./fit_with_ultranest.py\n",
    "```\n",
    "\n",
    "Importantly, the script demonstrates how to parallelize Ultranest's sampling and turn off parallelization in PHOEBE which can interfere with parallelization in Ultranest:\n",
    "```py\n",
    "import os\n",
    "# Turn off parallelisation in phoebe\n",
    "# Needs to be done *before* phoebe is imported\n",
    "os.environ[\"OMP_NUM_THREADS\"] = \"1\"\n",
    "os.environ[\"PHOEBE_ENABLE_MPI\"] = \"FALSE\"\n",
    "```\n",
    "\n",
    "Since Ultranest can resume from previous runs, the code block below picks up on the samples from the parallelized script."
   ]
  },
  {
   "cell_type": "code",
   "execution_count": null,
   "id": "f473d64a-66ce-4f05-8eaf-aaa5927b183d",
   "metadata": {},
   "outputs": [
    {
     "name": "stdout",
     "output_type": "stream",
     "text": [
      "[ultranest] Sampling 400 live points from prior ...\n"
     ]
    }
   ],
   "source": [
    "result = sampler.run(\n",
    "    show_status=True,\n",
    "    update_interval_volume_fraction=0.98,\n",
    ")"
   ]
  },
  {
   "cell_type": "code",
   "execution_count": null,
   "id": "1e909ecc-8dbe-4d59-8938-c4105f0c5bc9",
   "metadata": {},
   "outputs": [],
   "source": [
    "sampler.print_results()"
   ]
  },
  {
   "cell_type": "code",
   "execution_count": null,
   "id": "592aff5e-1719-49f3-ae72-dd161f9353de",
   "metadata": {},
   "outputs": [],
   "source": [
    "sampler.plot_run()"
   ]
  },
  {
   "cell_type": "code",
   "execution_count": null,
   "id": "dc67f562-9565-430e-a992-edfc4bc09322",
   "metadata": {},
   "outputs": [],
   "source": [
    "sampler.plot_trace()"
   ]
  },
  {
   "cell_type": "code",
   "execution_count": null,
   "id": "18709ba3-8815-4092-ae41-0805ead7f774",
   "metadata": {},
   "outputs": [],
   "source": [
    "sampler.plot_corner()"
   ]
  },
  {
   "cell_type": "code",
   "execution_count": null,
   "id": "7ab864a5-3bc8-4060-9078-a0e19521049c",
   "metadata": {},
   "outputs": [],
   "source": []
  }
 ],
 "metadata": {
  "kernelspec": {
   "display_name": "Python [conda env:phoebe_py38]",
   "language": "python",
   "name": "conda-env-phoebe_py38-py"
  },
  "language_info": {
   "codemirror_mode": {
    "name": "ipython",
    "version": 3
   },
   "file_extension": ".py",
   "mimetype": "text/x-python",
   "name": "python",
   "nbconvert_exporter": "python",
   "pygments_lexer": "ipython3",
   "version": "3.8.16"
  }
 },
 "nbformat": 4,
 "nbformat_minor": 5
}
